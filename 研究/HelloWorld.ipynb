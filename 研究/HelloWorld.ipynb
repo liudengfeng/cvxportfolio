{
 "cells": [
  {
   "cell_type": "code",
   "execution_count": 1,
   "metadata": {
    "ExecuteTime": {
     "end_time": "2018-05-27T20:11:11.978558Z",
     "start_time": "2018-05-27T20:11:10.162291Z"
    }
   },
   "outputs": [],
   "source": [
    "%matplotlib inline\n",
    "import numpy as np\n",
    "import pandas as pd\n",
    "#import quandl\n",
    "\n",
    "import cvxportfolio as cp"
   ]
  },
  {
   "cell_type": "markdown",
   "metadata": {},
   "source": [
    "获取股票价格数据及无风险利率"
   ]
  },
  {
   "cell_type": "code",
   "execution_count": 2,
   "metadata": {
    "ExecuteTime": {
     "end_time": "2018-05-27T20:11:20.447239Z",
     "start_time": "2018-05-27T20:11:11.984110Z"
    }
   },
   "outputs": [],
   "source": [
    "from zipline.research import returns\n",
    "from zipline.data.treasuries_cn import get_treasury_data"
   ]
  },
  {
   "cell_type": "code",
   "execution_count": 3,
   "metadata": {
    "ExecuteTime": {
     "end_time": "2018-05-27T20:11:23.707460Z",
     "start_time": "2018-05-27T20:11:20.455262Z"
    }
   },
   "outputs": [
    {
     "name": "stdout",
     "output_type": "stream",
     "text": [
      "[2018-05-28 04:11:23.561556] INFO: zipline.finance.metrics.tracker: 模拟1个交易日\n",
      "首个开盘时间: 2018-05-25 01:31:00+00:00\n",
      "最后收盘时间: 2018-05-25 07:00:00+00:00\n"
     ]
    }
   ],
   "source": [
    "# 注意无风险利率选择一年期，然后除每年交易天数244\n",
    "\n",
    "tickers = ['300001', '000333', '600771', '600645']\n",
    "start ='2016-01-01'\n",
    "end ='2018-05-25'\n",
    "rets = returns(tickers, start, end)"
   ]
  },
  {
   "cell_type": "raw",
   "metadata": {
    "ExecuteTime": {
     "end_time": "2018-05-27T19:38:40.730071Z",
     "start_time": "2018-05-27T19:38:40.723639Z"
    }
   },
   "source": [
    "rets.columns = [c.symbol for c in rets.columns] # 转为str"
   ]
  },
  {
   "cell_type": "raw",
   "metadata": {
    "ExecuteTime": {
     "end_time": "2018-05-27T19:47:32.981307Z",
     "start_time": "2018-05-27T19:47:32.716083Z"
    }
   },
   "source": [
    "rets['RMB'] = get_treasury_data(start, end)['1year'] / 244.0"
   ]
  },
  {
   "cell_type": "code",
   "execution_count": 4,
   "metadata": {
    "ExecuteTime": {
     "end_time": "2018-05-27T20:11:23.762008Z",
     "start_time": "2018-05-27T20:11:23.713090Z"
    }
   },
   "outputs": [
    {
     "data": {
      "text/html": [
       "<div>\n",
       "<style scoped>\n",
       "    .dataframe tbody tr th:only-of-type {\n",
       "        vertical-align: middle;\n",
       "    }\n",
       "\n",
       "    .dataframe tbody tr th {\n",
       "        vertical-align: top;\n",
       "    }\n",
       "\n",
       "    .dataframe thead th {\n",
       "        text-align: right;\n",
       "    }\n",
       "</style>\n",
       "<table border=\"1\" class=\"dataframe\">\n",
       "  <thead>\n",
       "    <tr style=\"text-align: right;\">\n",
       "      <th></th>\n",
       "      <th>特锐德(300001)</th>\n",
       "      <th>美的集团(000333)</th>\n",
       "      <th>广誉远(600771)</th>\n",
       "      <th>中源协和(600645)</th>\n",
       "    </tr>\n",
       "  </thead>\n",
       "  <tbody>\n",
       "    <tr>\n",
       "      <th>2016-01-04 00:00:00+00:00</th>\n",
       "      <td>-0.099644</td>\n",
       "      <td>-0.094482</td>\n",
       "      <td>0.0</td>\n",
       "      <td>-0.099985</td>\n",
       "    </tr>\n",
       "    <tr>\n",
       "      <th>2016-01-05 00:00:00+00:00</th>\n",
       "      <td>-0.055950</td>\n",
       "      <td>0.054211</td>\n",
       "      <td>0.0</td>\n",
       "      <td>-0.032473</td>\n",
       "    </tr>\n",
       "    <tr>\n",
       "      <th>2016-01-06 00:00:00+00:00</th>\n",
       "      <td>0.020717</td>\n",
       "      <td>0.008265</td>\n",
       "      <td>0.0</td>\n",
       "      <td>0.047871</td>\n",
       "    </tr>\n",
       "    <tr>\n",
       "      <th>2016-01-07 00:00:00+00:00</th>\n",
       "      <td>-0.100167</td>\n",
       "      <td>-0.080731</td>\n",
       "      <td>0.0</td>\n",
       "      <td>-0.099966</td>\n",
       "    </tr>\n",
       "    <tr>\n",
       "      <th>2016-01-08 00:00:00+00:00</th>\n",
       "      <td>-0.021627</td>\n",
       "      <td>0.026527</td>\n",
       "      <td>0.0</td>\n",
       "      <td>0.065368</td>\n",
       "    </tr>\n",
       "  </tbody>\n",
       "</table>\n",
       "</div>"
      ],
      "text/plain": [
       "                           特锐德(300001)  美的集团(000333)  广誉远(600771)  \\\n",
       "2016-01-04 00:00:00+00:00    -0.099644     -0.094482          0.0   \n",
       "2016-01-05 00:00:00+00:00    -0.055950      0.054211          0.0   \n",
       "2016-01-06 00:00:00+00:00     0.020717      0.008265          0.0   \n",
       "2016-01-07 00:00:00+00:00    -0.100167     -0.080731          0.0   \n",
       "2016-01-08 00:00:00+00:00    -0.021627      0.026527          0.0   \n",
       "\n",
       "                           中源协和(600645)  \n",
       "2016-01-04 00:00:00+00:00     -0.099985  \n",
       "2016-01-05 00:00:00+00:00     -0.032473  \n",
       "2016-01-06 00:00:00+00:00      0.047871  \n",
       "2016-01-07 00:00:00+00:00     -0.099966  \n",
       "2016-01-08 00:00:00+00:00      0.065368  "
      ]
     },
     "execution_count": 4,
     "metadata": {},
     "output_type": "execute_result"
    }
   ],
   "source": [
    "rets.head()"
   ]
  },
  {
   "cell_type": "markdown",
   "metadata": {},
   "source": [
    "We compute rolling estimates of the first and second moments of the returns using a window of 250 days. We shift them by one unit (so at every day we present the optimizer with only past data).\n",
    "\n",
    "计算滚动244天"
   ]
  },
  {
   "cell_type": "code",
   "execution_count": 5,
   "metadata": {
    "ExecuteTime": {
     "end_time": "2018-05-27T20:11:24.750470Z",
     "start_time": "2018-05-27T20:11:23.767113Z"
    }
   },
   "outputs": [
    {
     "data": {
      "text/html": [
       "<div>\n",
       "<style scoped>\n",
       "    .dataframe tbody tr th:only-of-type {\n",
       "        vertical-align: middle;\n",
       "    }\n",
       "\n",
       "    .dataframe tbody tr th {\n",
       "        vertical-align: top;\n",
       "    }\n",
       "\n",
       "    .dataframe thead th {\n",
       "        text-align: right;\n",
       "    }\n",
       "</style>\n",
       "<table border=\"1\" class=\"dataframe\">\n",
       "  <thead>\n",
       "    <tr style=\"text-align: right;\">\n",
       "      <th></th>\n",
       "      <th>特锐德(300001)</th>\n",
       "      <th>美的集团(000333)</th>\n",
       "      <th>广誉远(600771)</th>\n",
       "      <th>中源协和(600645)</th>\n",
       "    </tr>\n",
       "  </thead>\n",
       "  <tbody>\n",
       "    <tr>\n",
       "      <th>2018-05-21 00:00:00+00:00</th>\n",
       "      <td>-0.001113</td>\n",
       "      <td>0.002156</td>\n",
       "      <td>0.001664</td>\n",
       "      <td>0.000444</td>\n",
       "    </tr>\n",
       "    <tr>\n",
       "      <th>2018-05-22 00:00:00+00:00</th>\n",
       "      <td>-0.000842</td>\n",
       "      <td>0.002035</td>\n",
       "      <td>0.001665</td>\n",
       "      <td>0.000487</td>\n",
       "    </tr>\n",
       "    <tr>\n",
       "      <th>2018-05-23 00:00:00+00:00</th>\n",
       "      <td>-0.000693</td>\n",
       "      <td>0.001857</td>\n",
       "      <td>0.001810</td>\n",
       "      <td>0.000819</td>\n",
       "    </tr>\n",
       "    <tr>\n",
       "      <th>2018-05-24 00:00:00+00:00</th>\n",
       "      <td>-0.000614</td>\n",
       "      <td>0.001780</td>\n",
       "      <td>0.001805</td>\n",
       "      <td>0.000991</td>\n",
       "    </tr>\n",
       "    <tr>\n",
       "      <th>2018-05-25 00:00:00+00:00</th>\n",
       "      <td>-0.000689</td>\n",
       "      <td>0.001733</td>\n",
       "      <td>0.001766</td>\n",
       "      <td>0.000936</td>\n",
       "    </tr>\n",
       "  </tbody>\n",
       "</table>\n",
       "</div>"
      ],
      "text/plain": [
       "                           特锐德(300001)  美的集团(000333)  广誉远(600771)  \\\n",
       "2018-05-21 00:00:00+00:00    -0.001113      0.002156     0.001664   \n",
       "2018-05-22 00:00:00+00:00    -0.000842      0.002035     0.001665   \n",
       "2018-05-23 00:00:00+00:00    -0.000693      0.001857     0.001810   \n",
       "2018-05-24 00:00:00+00:00    -0.000614      0.001780     0.001805   \n",
       "2018-05-25 00:00:00+00:00    -0.000689      0.001733     0.001766   \n",
       "\n",
       "                           中源协和(600645)  \n",
       "2018-05-21 00:00:00+00:00      0.000444  \n",
       "2018-05-22 00:00:00+00:00      0.000487  \n",
       "2018-05-23 00:00:00+00:00      0.000819  \n",
       "2018-05-24 00:00:00+00:00      0.000991  \n",
       "2018-05-25 00:00:00+00:00      0.000936  "
      ]
     },
     "execution_count": 5,
     "metadata": {},
     "output_type": "execute_result"
    }
   ],
   "source": [
    "r_hat = rets.rolling(window=244, min_periods=244).mean().shift(1).dropna()\n",
    "Sigma_hat = rets.rolling(window=244, min_periods=244, closed='neither').cov().dropna()\n",
    "\n",
    "r_hat.tail()"
   ]
  },
  {
   "cell_type": "code",
   "execution_count": 6,
   "metadata": {
    "ExecuteTime": {
     "end_time": "2018-05-27T20:11:24.799445Z",
     "start_time": "2018-05-27T20:11:24.757842Z"
    }
   },
   "outputs": [
    {
     "data": {
      "text/html": [
       "<div>\n",
       "<style scoped>\n",
       "    .dataframe tbody tr th:only-of-type {\n",
       "        vertical-align: middle;\n",
       "    }\n",
       "\n",
       "    .dataframe tbody tr th {\n",
       "        vertical-align: top;\n",
       "    }\n",
       "\n",
       "    .dataframe thead th {\n",
       "        text-align: right;\n",
       "    }\n",
       "</style>\n",
       "<table border=\"1\" class=\"dataframe\">\n",
       "  <thead>\n",
       "    <tr style=\"text-align: right;\">\n",
       "      <th></th>\n",
       "      <th></th>\n",
       "      <th>特锐德(300001)</th>\n",
       "      <th>美的集团(000333)</th>\n",
       "      <th>广誉远(600771)</th>\n",
       "      <th>中源协和(600645)</th>\n",
       "    </tr>\n",
       "  </thead>\n",
       "  <tbody>\n",
       "    <tr>\n",
       "      <th>2018-05-24 00:00:00+00:00</th>\n",
       "      <th>中源协和(600645)</th>\n",
       "      <td>0.000131</td>\n",
       "      <td>-0.000017</td>\n",
       "      <td>0.000036</td>\n",
       "      <td>0.000713</td>\n",
       "    </tr>\n",
       "    <tr>\n",
       "      <th rowspan=\"4\" valign=\"top\">2018-05-25 00:00:00+00:00</th>\n",
       "      <th>特锐德(300001)</th>\n",
       "      <td>0.000382</td>\n",
       "      <td>0.000050</td>\n",
       "      <td>0.000063</td>\n",
       "      <td>0.000131</td>\n",
       "    </tr>\n",
       "    <tr>\n",
       "      <th>美的集团(000333)</th>\n",
       "      <td>0.000050</td>\n",
       "      <td>0.000464</td>\n",
       "      <td>0.000053</td>\n",
       "      <td>-0.000014</td>\n",
       "    </tr>\n",
       "    <tr>\n",
       "      <th>广誉远(600771)</th>\n",
       "      <td>0.000063</td>\n",
       "      <td>0.000053</td>\n",
       "      <td>0.000314</td>\n",
       "      <td>0.000032</td>\n",
       "    </tr>\n",
       "    <tr>\n",
       "      <th>中源协和(600645)</th>\n",
       "      <td>0.000131</td>\n",
       "      <td>-0.000014</td>\n",
       "      <td>0.000032</td>\n",
       "      <td>0.000715</td>\n",
       "    </tr>\n",
       "  </tbody>\n",
       "</table>\n",
       "</div>"
      ],
      "text/plain": [
       "                                        特锐德(300001)  美的集团(000333)  \\\n",
       "2018-05-24 00:00:00+00:00 中源协和(600645)     0.000131     -0.000017   \n",
       "2018-05-25 00:00:00+00:00 特锐德(300001)      0.000382      0.000050   \n",
       "                          美的集团(000333)     0.000050      0.000464   \n",
       "                          广誉远(600771)      0.000063      0.000053   \n",
       "                          中源协和(600645)     0.000131     -0.000014   \n",
       "\n",
       "                                        广誉远(600771)  中源协和(600645)  \n",
       "2018-05-24 00:00:00+00:00 中源协和(600645)     0.000036      0.000713  \n",
       "2018-05-25 00:00:00+00:00 特锐德(300001)      0.000063      0.000131  \n",
       "                          美的集团(000333)     0.000053     -0.000014  \n",
       "                          广誉远(600771)      0.000314      0.000032  \n",
       "                          中源协和(600645)     0.000032      0.000715  "
      ]
     },
     "execution_count": 6,
     "metadata": {},
     "output_type": "execute_result"
    }
   ],
   "source": [
    "Sigma_hat.tail()"
   ]
  },
  {
   "cell_type": "markdown",
   "metadata": {},
   "source": [
    "Here we define the transaction cost and holding cost model (sections 2.3 and 2.4 [of the paper](https://web.stanford.edu/~boyd/papers/cvx_portfolio.html)). The data can be expressed \n",
    "as \n",
    "- a scalar (like we're doing here), the same value for all assets and all time periods;\n",
    "- a Pandas Series indexed by the asset names, for asset-specific values; \n",
    "- a Pandas DataFrame indexed by timestamps with asset names as columns, for values that vary by asset and in time.\n",
    "\n",
    "定义交易成本及持有成本\n",
    "- 标量：所有时间及资产一个固定值\n",
    "- 序列：特定资产固定值\n",
    "- 数据框：随时间及资产而变化的值"
   ]
  },
  {
   "cell_type": "code",
   "execution_count": 7,
   "metadata": {
    "ExecuteTime": {
     "end_time": "2018-05-27T20:11:24.818276Z",
     "start_time": "2018-05-27T20:11:24.806790Z"
    }
   },
   "outputs": [],
   "source": [
    "tcost_model=cp.TcostModel(0)\n",
    "hcost_model=cp.HcostModel(0)"
   ]
  },
  {
   "cell_type": "markdown",
   "metadata": {},
   "source": [
    "We define the single period optimization policy (section 4 [of the paper](https://web.stanford.edu/~boyd/papers/cvx_portfolio.html)). "
   ]
  },
  {
   "cell_type": "code",
   "execution_count": 8,
   "metadata": {
    "ExecuteTime": {
     "end_time": "2018-05-27T20:11:24.840123Z",
     "start_time": "2018-05-27T20:11:24.823416Z"
    }
   },
   "outputs": [],
   "source": [
    "risk_model = cp.FullSigma(Sigma_hat)\n",
    "gamma_risk, gamma_trade, gamma_hold = 1., 1., 1.\n",
    "leverage_limit = cp.LeverageLimit(1)\n",
    "\n",
    "spo_policy = cp.SinglePeriodOpt(return_forecast=r_hat, \n",
    "                                costs=[],\n",
    "                                constraints=[leverage_limit])"
   ]
  },
  {
   "cell_type": "code",
   "execution_count": 9,
   "metadata": {
    "ExecuteTime": {
     "end_time": "2018-05-27T20:11:24.907955Z",
     "start_time": "2018-05-27T20:11:24.846876Z"
    }
   },
   "outputs": [
    {
     "data": {
      "text/plain": [
       "特锐德(300001)     -99999.999669\n",
       "美的集团(000333)    299999.997111\n",
       "广誉远(600771)     -99999.997490\n",
       "中源协和(600645)    -99999.999952\n",
       "dtype: float64"
      ]
     },
     "execution_count": 9,
     "metadata": {},
     "output_type": "execute_result"
    }
   ],
   "source": [
    "t = r_hat.index[2]\n",
    "p_0 = pd.Series(index=rets.columns, data=100000) # 期初投资组合\n",
    "z = spo_policy.get_trades(p_0, t)\n",
    "z"
   ]
  }
 ],
 "metadata": {
  "anaconda-cloud": {},
  "kernelspec": {
   "display_name": "zipline",
   "language": "python",
   "name": "zipline"
  },
  "language_info": {
   "codemirror_mode": {
    "name": "ipython",
    "version": 3
   },
   "file_extension": ".py",
   "mimetype": "text/x-python",
   "name": "python",
   "nbconvert_exporter": "python",
   "pygments_lexer": "ipython3",
   "version": "3.6.5"
  },
  "toc": {
   "base_numbering": 1,
   "nav_menu": {},
   "number_sections": true,
   "sideBar": true,
   "skip_h1_title": false,
   "title_cell": "Table of Contents",
   "title_sidebar": "Contents",
   "toc_cell": false,
   "toc_position": {},
   "toc_section_display": true,
   "toc_window_display": false
  }
 },
 "nbformat": 4,
 "nbformat_minor": 1
}
