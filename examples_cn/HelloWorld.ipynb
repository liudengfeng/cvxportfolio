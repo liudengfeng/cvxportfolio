{
 "cells": [
  {
   "cell_type": "raw",
   "metadata": {},
   "source": [
    "import os\n",
    "import sys\n",
    "sys.path.insert(0, os.path.abspath('..'))"
   ]
  },
  {
   "cell_type": "code",
   "execution_count": 1,
   "metadata": {
    "ExecuteTime": {
     "end_time": "2018-05-27T16:47:57.847809Z",
     "start_time": "2018-05-27T16:47:57.181392Z"
    }
   },
   "outputs": [],
   "source": [
    "%matplotlib inline\n",
    "import numpy as np\n",
    "import pandas as pd\n",
    "#import quandl\n",
    "\n",
    "import cvxportfolio as cp"
   ]
  },
  {
   "cell_type": "markdown",
   "metadata": {},
   "source": [
    "获取股票价格数据及无风险利率"
   ]
  },
  {
   "cell_type": "code",
   "execution_count": 2,
   "metadata": {
    "ExecuteTime": {
     "end_time": "2018-05-27T16:48:00.647304Z",
     "start_time": "2018-05-27T16:47:57.849910Z"
    }
   },
   "outputs": [],
   "source": [
    "from zipline.research import returns\n",
    "from zipline.data.treasuries_cn import get_treasury_data"
   ]
  },
  {
   "cell_type": "code",
   "execution_count": 3,
   "metadata": {
    "ExecuteTime": {
     "end_time": "2018-05-27T16:48:01.828969Z",
     "start_time": "2018-05-27T16:48:00.649421Z"
    }
   },
   "outputs": [
    {
     "name": "stdout",
     "output_type": "stream",
     "text": [
      "[2018-05-28 00:48:01.749354] INFO: zipline.finance.metrics.tracker: 模拟1个交易日\n",
      "首个开盘时间: 2018-05-25 01:31:00+00:00\n",
      "最后收盘时间: 2018-05-25 07:00:00+00:00\n"
     ]
    }
   ],
   "source": [
    "# 注意无风险利率选择一年期，然后除每年交易天数244\n",
    "\n",
    "tickers = ['300001', '000333', '600771', '600645']\n",
    "start ='2016-01-01'\n",
    "end ='2018-05-25'\n",
    "rets = returns(tickers, start, end)"
   ]
  },
  {
   "cell_type": "code",
   "execution_count": 4,
   "metadata": {
    "ExecuteTime": {
     "end_time": "2018-05-27T16:48:01.839284Z",
     "start_time": "2018-05-27T16:48:01.831500Z"
    }
   },
   "outputs": [],
   "source": [
    "rets.columns = [c.symbol for c in rets.columns] # 转为str"
   ]
  },
  {
   "cell_type": "code",
   "execution_count": 5,
   "metadata": {
    "ExecuteTime": {
     "end_time": "2018-05-27T16:48:02.073345Z",
     "start_time": "2018-05-27T16:48:01.842991Z"
    }
   },
   "outputs": [],
   "source": [
    "rets['RMB'] = get_treasury_data(start, end)['1year'] / 244.0"
   ]
  },
  {
   "cell_type": "code",
   "execution_count": 6,
   "metadata": {
    "ExecuteTime": {
     "end_time": "2018-05-27T16:48:02.114292Z",
     "start_time": "2018-05-27T16:48:02.076534Z"
    }
   },
   "outputs": [
    {
     "data": {
      "text/html": [
       "<div>\n",
       "<style scoped>\n",
       "    .dataframe tbody tr th:only-of-type {\n",
       "        vertical-align: middle;\n",
       "    }\n",
       "\n",
       "    .dataframe tbody tr th {\n",
       "        vertical-align: top;\n",
       "    }\n",
       "\n",
       "    .dataframe thead th {\n",
       "        text-align: right;\n",
       "    }\n",
       "</style>\n",
       "<table border=\"1\" class=\"dataframe\">\n",
       "  <thead>\n",
       "    <tr style=\"text-align: right;\">\n",
       "      <th></th>\n",
       "      <th>300001</th>\n",
       "      <th>000333</th>\n",
       "      <th>600771</th>\n",
       "      <th>600645</th>\n",
       "      <th>RMB</th>\n",
       "    </tr>\n",
       "  </thead>\n",
       "  <tbody>\n",
       "    <tr>\n",
       "      <th>2016-01-04 00:00:00+00:00</th>\n",
       "      <td>-0.099644</td>\n",
       "      <td>-0.094482</td>\n",
       "      <td>0.0</td>\n",
       "      <td>-0.099985</td>\n",
       "      <td>0.000096</td>\n",
       "    </tr>\n",
       "    <tr>\n",
       "      <th>2016-01-05 00:00:00+00:00</th>\n",
       "      <td>-0.055950</td>\n",
       "      <td>0.054211</td>\n",
       "      <td>0.0</td>\n",
       "      <td>-0.032473</td>\n",
       "      <td>0.000097</td>\n",
       "    </tr>\n",
       "    <tr>\n",
       "      <th>2016-01-06 00:00:00+00:00</th>\n",
       "      <td>0.020717</td>\n",
       "      <td>0.008265</td>\n",
       "      <td>0.0</td>\n",
       "      <td>0.047871</td>\n",
       "      <td>0.000097</td>\n",
       "    </tr>\n",
       "    <tr>\n",
       "      <th>2016-01-07 00:00:00+00:00</th>\n",
       "      <td>-0.100167</td>\n",
       "      <td>-0.080731</td>\n",
       "      <td>0.0</td>\n",
       "      <td>-0.099966</td>\n",
       "      <td>0.000097</td>\n",
       "    </tr>\n",
       "    <tr>\n",
       "      <th>2016-01-08 00:00:00+00:00</th>\n",
       "      <td>-0.021627</td>\n",
       "      <td>0.026527</td>\n",
       "      <td>0.0</td>\n",
       "      <td>0.065368</td>\n",
       "      <td>0.000097</td>\n",
       "    </tr>\n",
       "  </tbody>\n",
       "</table>\n",
       "</div>"
      ],
      "text/plain": [
       "                             300001    000333  600771    600645       RMB\n",
       "2016-01-04 00:00:00+00:00 -0.099644 -0.094482     0.0 -0.099985  0.000096\n",
       "2016-01-05 00:00:00+00:00 -0.055950  0.054211     0.0 -0.032473  0.000097\n",
       "2016-01-06 00:00:00+00:00  0.020717  0.008265     0.0  0.047871  0.000097\n",
       "2016-01-07 00:00:00+00:00 -0.100167 -0.080731     0.0 -0.099966  0.000097\n",
       "2016-01-08 00:00:00+00:00 -0.021627  0.026527     0.0  0.065368  0.000097"
      ]
     },
     "execution_count": 6,
     "metadata": {},
     "output_type": "execute_result"
    }
   ],
   "source": [
    "rets.head()"
   ]
  },
  {
   "cell_type": "raw",
   "metadata": {
    "ExecuteTime": {
     "end_time": "2018-05-27T16:38:52.939366Z",
     "start_time": "2018-05-27T16:38:52.921413Z"
    }
   },
   "source": [
    "# 转换为日期?\n",
    "rets.index = rets.index.map(lambda x:x.date())"
   ]
  },
  {
   "cell_type": "markdown",
   "metadata": {},
   "source": [
    "We compute rolling estimates of the first and second moments of the returns using a window of 250 days. We shift them by one unit (so at every day we present the optimizer with only past data).\n",
    "\n",
    "计算滚动244天"
   ]
  },
  {
   "cell_type": "code",
   "execution_count": 7,
   "metadata": {
    "ExecuteTime": {
     "end_time": "2018-05-27T16:48:02.492216Z",
     "start_time": "2018-05-27T16:48:02.122615Z"
    }
   },
   "outputs": [
    {
     "data": {
      "text/html": [
       "<div>\n",
       "<style scoped>\n",
       "    .dataframe tbody tr th:only-of-type {\n",
       "        vertical-align: middle;\n",
       "    }\n",
       "\n",
       "    .dataframe tbody tr th {\n",
       "        vertical-align: top;\n",
       "    }\n",
       "\n",
       "    .dataframe thead th {\n",
       "        text-align: right;\n",
       "    }\n",
       "</style>\n",
       "<table border=\"1\" class=\"dataframe\">\n",
       "  <thead>\n",
       "    <tr style=\"text-align: right;\">\n",
       "      <th></th>\n",
       "      <th>300001</th>\n",
       "      <th>000333</th>\n",
       "      <th>600771</th>\n",
       "      <th>600645</th>\n",
       "      <th>RMB</th>\n",
       "    </tr>\n",
       "  </thead>\n",
       "  <tbody>\n",
       "    <tr>\n",
       "      <th>2018-05-21 00:00:00+00:00</th>\n",
       "      <td>-0.000697</td>\n",
       "      <td>0.002030</td>\n",
       "      <td>0.001632</td>\n",
       "      <td>0.000440</td>\n",
       "      <td>0.000141</td>\n",
       "    </tr>\n",
       "    <tr>\n",
       "      <th>2018-05-22 00:00:00+00:00</th>\n",
       "      <td>-0.000697</td>\n",
       "      <td>0.001958</td>\n",
       "      <td>0.001741</td>\n",
       "      <td>0.000566</td>\n",
       "      <td>0.000141</td>\n",
       "    </tr>\n",
       "    <tr>\n",
       "      <th>2018-05-23 00:00:00+00:00</th>\n",
       "      <td>-0.000615</td>\n",
       "      <td>0.001868</td>\n",
       "      <td>0.001876</td>\n",
       "      <td>0.000901</td>\n",
       "      <td>0.000141</td>\n",
       "    </tr>\n",
       "    <tr>\n",
       "      <th>2018-05-24 00:00:00+00:00</th>\n",
       "      <td>-0.000637</td>\n",
       "      <td>0.001854</td>\n",
       "      <td>0.001756</td>\n",
       "      <td>0.000896</td>\n",
       "      <td>0.000141</td>\n",
       "    </tr>\n",
       "    <tr>\n",
       "      <th>2018-05-25 00:00:00+00:00</th>\n",
       "      <td>-0.000812</td>\n",
       "      <td>0.001784</td>\n",
       "      <td>0.001624</td>\n",
       "      <td>0.000643</td>\n",
       "      <td>0.000141</td>\n",
       "    </tr>\n",
       "  </tbody>\n",
       "</table>\n",
       "</div>"
      ],
      "text/plain": [
       "                             300001    000333    600771    600645       RMB\n",
       "2018-05-21 00:00:00+00:00 -0.000697  0.002030  0.001632  0.000440  0.000141\n",
       "2018-05-22 00:00:00+00:00 -0.000697  0.001958  0.001741  0.000566  0.000141\n",
       "2018-05-23 00:00:00+00:00 -0.000615  0.001868  0.001876  0.000901  0.000141\n",
       "2018-05-24 00:00:00+00:00 -0.000637  0.001854  0.001756  0.000896  0.000141\n",
       "2018-05-25 00:00:00+00:00 -0.000812  0.001784  0.001624  0.000643  0.000141"
      ]
     },
     "execution_count": 7,
     "metadata": {},
     "output_type": "execute_result"
    }
   ],
   "source": [
    "r_hat = rets.rolling(window=250, min_periods=250).mean().shift(1).dropna()\n",
    "Sigma_hat = rets.rolling(window=250, min_periods=250, closed='neither').cov().dropna()\n",
    "\n",
    "r_hat.tail()"
   ]
  },
  {
   "cell_type": "code",
   "execution_count": 8,
   "metadata": {
    "ExecuteTime": {
     "end_time": "2018-05-27T16:48:02.512935Z",
     "start_time": "2018-05-27T16:48:02.495092Z"
    }
   },
   "outputs": [
    {
     "data": {
      "text/html": [
       "<div>\n",
       "<style scoped>\n",
       "    .dataframe tbody tr th:only-of-type {\n",
       "        vertical-align: middle;\n",
       "    }\n",
       "\n",
       "    .dataframe tbody tr th {\n",
       "        vertical-align: top;\n",
       "    }\n",
       "\n",
       "    .dataframe thead th {\n",
       "        text-align: right;\n",
       "    }\n",
       "</style>\n",
       "<table border=\"1\" class=\"dataframe\">\n",
       "  <thead>\n",
       "    <tr style=\"text-align: right;\">\n",
       "      <th></th>\n",
       "      <th></th>\n",
       "      <th>300001</th>\n",
       "      <th>000333</th>\n",
       "      <th>600771</th>\n",
       "      <th>600645</th>\n",
       "      <th>RMB</th>\n",
       "    </tr>\n",
       "  </thead>\n",
       "  <tbody>\n",
       "    <tr>\n",
       "      <th rowspan=\"5\" valign=\"top\">2018-05-25 00:00:00+00:00</th>\n",
       "      <th>300001</th>\n",
       "      <td>3.887251e-04</td>\n",
       "      <td>3.999357e-05</td>\n",
       "      <td>6.173227e-05</td>\n",
       "      <td>1.337086e-04</td>\n",
       "      <td>-5.025579e-09</td>\n",
       "    </tr>\n",
       "    <tr>\n",
       "      <th>000333</th>\n",
       "      <td>3.999357e-05</td>\n",
       "      <td>4.600851e-04</td>\n",
       "      <td>5.122342e-05</td>\n",
       "      <td>-1.752075e-05</td>\n",
       "      <td>9.678098e-09</td>\n",
       "    </tr>\n",
       "    <tr>\n",
       "      <th>600771</th>\n",
       "      <td>6.173227e-05</td>\n",
       "      <td>5.122342e-05</td>\n",
       "      <td>3.071126e-04</td>\n",
       "      <td>3.342974e-05</td>\n",
       "      <td>-1.141050e-08</td>\n",
       "    </tr>\n",
       "    <tr>\n",
       "      <th>600645</th>\n",
       "      <td>1.337086e-04</td>\n",
       "      <td>-1.752075e-05</td>\n",
       "      <td>3.342974e-05</td>\n",
       "      <td>7.077758e-04</td>\n",
       "      <td>-5.886650e-09</td>\n",
       "    </tr>\n",
       "    <tr>\n",
       "      <th>RMB</th>\n",
       "      <td>-5.025579e-09</td>\n",
       "      <td>9.678098e-09</td>\n",
       "      <td>-1.141050e-08</td>\n",
       "      <td>-5.886650e-09</td>\n",
       "      <td>6.674884e-11</td>\n",
       "    </tr>\n",
       "  </tbody>\n",
       "</table>\n",
       "</div>"
      ],
      "text/plain": [
       "                                        300001        000333        600771  \\\n",
       "2018-05-25 00:00:00+00:00 300001  3.887251e-04  3.999357e-05  6.173227e-05   \n",
       "                          000333  3.999357e-05  4.600851e-04  5.122342e-05   \n",
       "                          600771  6.173227e-05  5.122342e-05  3.071126e-04   \n",
       "                          600645  1.337086e-04 -1.752075e-05  3.342974e-05   \n",
       "                          RMB    -5.025579e-09  9.678098e-09 -1.141050e-08   \n",
       "\n",
       "                                        600645           RMB  \n",
       "2018-05-25 00:00:00+00:00 300001  1.337086e-04 -5.025579e-09  \n",
       "                          000333 -1.752075e-05  9.678098e-09  \n",
       "                          600771  3.342974e-05 -1.141050e-08  \n",
       "                          600645  7.077758e-04 -5.886650e-09  \n",
       "                          RMB    -5.886650e-09  6.674884e-11  "
      ]
     },
     "execution_count": 8,
     "metadata": {},
     "output_type": "execute_result"
    }
   ],
   "source": [
    "Sigma_hat.tail()"
   ]
  },
  {
   "cell_type": "markdown",
   "metadata": {},
   "source": [
    "Here we define the transaction cost and holding cost model (sections 2.3 and 2.4 [of the paper](https://web.stanford.edu/~boyd/papers/cvx_portfolio.html)). The data can be expressed \n",
    "as \n",
    "- a scalar (like we're doing here), the same value for all assets and all time periods;\n",
    "- a Pandas Series indexed by the asset names, for asset-specific values; \n",
    "- a Pandas DataFrame indexed by timestamps with asset names as columns, for values that vary by asset and in time.\n",
    "\n",
    "定义交易成本及持有成本\n",
    "- 标量：所有时间及资产一个固定值\n",
    "- 序列：特定资产固定值\n",
    "- 数据框：随时间及资产而变化的值"
   ]
  },
  {
   "cell_type": "code",
   "execution_count": 9,
   "metadata": {
    "ExecuteTime": {
     "end_time": "2018-05-27T16:48:02.520767Z",
     "start_time": "2018-05-27T16:48:02.516641Z"
    }
   },
   "outputs": [],
   "source": [
    "tcost_model=cp.TcostModel(half_spread=10E-4)\n",
    "hcost_model=cp.HcostModel(borrow_costs=1E-4)"
   ]
  },
  {
   "cell_type": "markdown",
   "metadata": {},
   "source": [
    "We define the single period optimization policy (section 4 [of the paper](https://web.stanford.edu/~boyd/papers/cvx_portfolio.html)). "
   ]
  },
  {
   "cell_type": "code",
   "execution_count": 10,
   "metadata": {
    "ExecuteTime": {
     "end_time": "2018-05-27T16:48:02.532794Z",
     "start_time": "2018-05-27T16:48:02.524042Z"
    }
   },
   "outputs": [],
   "source": [
    "risk_model = cp.FullSigma(Sigma_hat)\n",
    "gamma_risk, gamma_trade, gamma_hold = 5., 1., 1.\n",
    "leverage_limit = cp.LeverageLimit(3)\n",
    "\n",
    "spo_policy = cp.SinglePeriodOpt(return_forecast=r_hat, \n",
    "                                costs=[gamma_risk*risk_model, gamma_trade*tcost_model, gamma_hold*hcost_model],\n",
    "                                constraints=[leverage_limit])"
   ]
  },
  {
   "cell_type": "markdown",
   "metadata": {},
   "source": [
    "We run a backtest, which returns a result object. By calling its summary method we get some basic statistics.\n",
    "\n",
    "运行回测，返回结果对象。调用统计描述方法获取基础统计信息。"
   ]
  },
  {
   "cell_type": "code",
   "execution_count": 11,
   "metadata": {
    "ExecuteTime": {
     "end_time": "2018-05-27T16:48:02.540954Z",
     "start_time": "2018-05-27T16:48:02.536253Z"
    }
   },
   "outputs": [],
   "source": [
    "rets = rets.loc[r_hat.index] # 与r_hat时间同步"
   ]
  },
  {
   "cell_type": "code",
   "execution_count": 12,
   "metadata": {
    "ExecuteTime": {
     "end_time": "2018-05-27T16:48:17.408307Z",
     "start_time": "2018-05-27T16:48:02.544473Z"
    }
   },
   "outputs": [
    {
     "name": "stdout",
     "output_type": "stream",
     "text": [
      "Number of periods                                     333\n",
      "Initial timestamp               2017-01-11 00:00:00+00:00\n",
      "Final timestamp                 2018-05-25 00:00:00+00:00\n",
      "Portfolio return (%)                               41.052\n",
      "Excess return (%)                                  37.636\n",
      "Excess risk (%)                                    28.278\n",
      "Sharpe ratio                                        1.333\n",
      "Max. drawdown                                      22.004\n",
      "Turnover (%)                                      230.797\n",
      "Average policy time (sec)                           0.022\n",
      "Average simulator time (sec)                        0.003\n"
     ]
    }
   ],
   "source": [
    "market_sim=cp.MarketSimulator(rets, [tcost_model, hcost_model], cash_key='RMB') \n",
    "init_portfolio = pd.Series(index=rets.columns, data=250000.)\n",
    "init_portfolio.USDOLLAR = 0\n",
    "results = market_sim.run_multiple_backtest(init_portfolio,\n",
    "                               start_time=start,  end_time=end,  \n",
    "                               policies=[spo_policy, cp.Hold()])\n",
    "results[0].summary()"
   ]
  },
  {
   "cell_type": "code",
   "execution_count": 15,
   "metadata": {
    "ExecuteTime": {
     "end_time": "2018-05-27T16:52:49.762178Z",
     "start_time": "2018-05-27T16:52:49.748508Z"
    }
   },
   "outputs": [
    {
     "data": {
      "text/plain": [
       "[<cvxportfolio.result.SimulationResult at 0x7f9346266e48>,\n",
       " <cvxportfolio.result.SimulationResult at 0x7f9345922f60>]"
      ]
     },
     "execution_count": 15,
     "metadata": {},
     "output_type": "execute_result"
    }
   ],
   "source": [
    "results"
   ]
  },
  {
   "cell_type": "markdown",
   "metadata": {},
   "source": [
    "The total value of the portfolio in time.\n",
    "\n",
    "投资组合总值时间序列"
   ]
  },
  {
   "cell_type": "code",
   "execution_count": 13,
   "metadata": {
    "ExecuteTime": {
     "end_time": "2018-05-27T16:48:17.765874Z",
     "start_time": "2018-05-27T16:48:17.420064Z"
    }
   },
   "outputs": [
    {
     "data": {
      "text/plain": [
       "<matplotlib.axes._subplots.AxesSubplot at 0x7f93464b0828>"
      ]
     },
     "execution_count": 13,
     "metadata": {},
     "output_type": "execute_result"
    },
    {
     "data": {
      "image/png": "[encoded data removed]",
      "text/plain": [
       "<Figure size 864x360 with 1 Axes>"
      ]
     },
     "metadata": {},
     "output_type": "display_data"
    }
   ],
   "source": [
    "results[0].v.plot(figsize=(12,5))\n",
    "results[1].v.plot(figsize=(12,5))"
   ]
  },
  {
   "cell_type": "markdown",
   "metadata": {},
   "source": [
    "The weights vector of the portfolio in time.\n",
    "\n",
    "投资组合权重矢量时间序列"
   ]
  },
  {
   "cell_type": "code",
   "execution_count": 14,
   "metadata": {
    "ExecuteTime": {
     "end_time": "2018-05-27T16:48:18.151238Z",
     "start_time": "2018-05-27T16:48:17.768237Z"
    }
   },
   "outputs": [
    {
     "data": {
      "text/plain": [
       "<matplotlib.axes._subplots.AxesSubplot at 0x7f93462add68>"
      ]
     },
     "execution_count": 14,
     "metadata": {},
     "output_type": "execute_result"
    },
    {
     "data": {
      "image/png": "[encoded data removed]",
      "text/plain": [
       "<Figure size 864x432 with 1 Axes>"
      ]
     },
     "metadata": {},
     "output_type": "display_data"
    }
   ],
   "source": [
    "results[0].w.plot(figsize=(12,6))"
   ]
  }
 ],
 "metadata": {
  "anaconda-cloud": {},
  "kernelspec": {
   "display_name": "zipline",
   "language": "python",
   "name": "zipline"
  },
  "language_info": {
   "codemirror_mode": {
    "name": "ipython",
    "version": 3
   },
   "file_extension": ".py",
   "mimetype": "text/x-python",
   "name": "python",
   "nbconvert_exporter": "python",
   "pygments_lexer": "ipython3",
   "version": "3.6.5"
  },
  "toc": {
   "base_numbering": 1,
   "nav_menu": {},
   "number_sections": true,
   "sideBar": true,
   "skip_h1_title": false,
   "title_cell": "Table of Contents",
   "title_sidebar": "Contents",
   "toc_cell": false,
   "toc_position": {},
   "toc_section_display": true,
   "toc_window_display": false
  }
 },
 "nbformat": 4,
 "nbformat_minor": 1
}
