{
 "cells": [
  {
   "cell_type": "raw",
   "metadata": {},
   "source": [
    "import os\n",
    "import sys\n",
    "sys.path.insert(0, os.path.abspath('..'))"
   ]
  },
  {
   "cell_type": "code",
   "execution_count": 1,
   "metadata": {
    "ExecuteTime": {
     "end_time": "2018-05-28T13:48:06.300826Z",
     "start_time": "2018-05-28T13:48:05.687133Z"
    }
   },
   "outputs": [],
   "source": [
    "%matplotlib inline\n",
    "import numpy as np\n",
    "import pandas as pd\n",
    "#import quandl\n",
    "\n",
    "import cvxportfolio as cp"
   ]
  },
  {
   "cell_type": "markdown",
   "metadata": {},
   "source": [
    "获取股票价格数据及无风险利率"
   ]
  },
  {
   "cell_type": "code",
   "execution_count": 2,
   "metadata": {
    "ExecuteTime": {
     "end_time": "2018-05-28T13:48:09.090135Z",
     "start_time": "2018-05-28T13:48:06.303191Z"
    }
   },
   "outputs": [],
   "source": [
    "from zipline.research import returns\n",
    "from zipline.data.treasuries_cn import get_treasury_data"
   ]
  },
  {
   "cell_type": "code",
   "execution_count": 3,
   "metadata": {
    "ExecuteTime": {
     "end_time": "2018-05-28T13:48:10.179575Z",
     "start_time": "2018-05-28T13:48:09.093226Z"
    }
   },
   "outputs": [
    {
     "name": "stdout",
     "output_type": "stream",
     "text": [
      "[2018-05-28 21:48:10.113782] INFO: zipline.finance.metrics.tracker: 模拟1个交易日\n",
      "首个开盘时间: 2018-05-25 01:31:00+00:00\n",
      "最后收盘时间: 2018-05-25 07:00:00+00:00\n"
     ]
    }
   ],
   "source": [
    "# 注意无风险利率选择一年期，然后除每年交易天数244\n",
    "\n",
    "tickers = ['300001', '000333', '600771', '600645']\n",
    "start ='2016-01-01'\n",
    "end ='2018-05-25'\n",
    "rets = returns(tickers, start, end)"
   ]
  },
  {
   "cell_type": "code",
   "execution_count": 4,
   "metadata": {
    "ExecuteTime": {
     "end_time": "2018-05-28T13:48:10.185841Z",
     "start_time": "2018-05-28T13:48:10.182134Z"
    }
   },
   "outputs": [],
   "source": [
    "rets.columns = [c.symbol for c in rets.columns] # 转为str"
   ]
  },
  {
   "cell_type": "code",
   "execution_count": 5,
   "metadata": {
    "ExecuteTime": {
     "end_time": "2018-05-28T13:48:10.322061Z",
     "start_time": "2018-05-28T13:48:10.188890Z"
    }
   },
   "outputs": [],
   "source": [
    "rets['cash'] = get_treasury_data(start, end)['1year'] / 244.0"
   ]
  },
  {
   "cell_type": "code",
   "execution_count": 6,
   "metadata": {
    "ExecuteTime": {
     "end_time": "2018-05-28T13:48:10.345107Z",
     "start_time": "2018-05-28T13:48:10.325465Z"
    }
   },
   "outputs": [
    {
     "data": {
      "text/html": [
       "<div>\n",
       "<style scoped>\n",
       "    .dataframe tbody tr th:only-of-type {\n",
       "        vertical-align: middle;\n",
       "    }\n",
       "\n",
       "    .dataframe tbody tr th {\n",
       "        vertical-align: top;\n",
       "    }\n",
       "\n",
       "    .dataframe thead th {\n",
       "        text-align: right;\n",
       "    }\n",
       "</style>\n",
       "<table border=\"1\" class=\"dataframe\">\n",
       "  <thead>\n",
       "    <tr style=\"text-align: right;\">\n",
       "      <th></th>\n",
       "      <th>300001</th>\n",
       "      <th>000333</th>\n",
       "      <th>600771</th>\n",
       "      <th>600645</th>\n",
       "      <th>cash</th>\n",
       "    </tr>\n",
       "  </thead>\n",
       "  <tbody>\n",
       "    <tr>\n",
       "      <th>2016-01-04 00:00:00+00:00</th>\n",
       "      <td>-0.099644</td>\n",
       "      <td>-0.094482</td>\n",
       "      <td>0.0</td>\n",
       "      <td>-0.099985</td>\n",
       "      <td>0.000096</td>\n",
       "    </tr>\n",
       "    <tr>\n",
       "      <th>2016-01-05 00:00:00+00:00</th>\n",
       "      <td>-0.055950</td>\n",
       "      <td>0.054211</td>\n",
       "      <td>0.0</td>\n",
       "      <td>-0.032473</td>\n",
       "      <td>0.000097</td>\n",
       "    </tr>\n",
       "    <tr>\n",
       "      <th>2016-01-06 00:00:00+00:00</th>\n",
       "      <td>0.020717</td>\n",
       "      <td>0.008265</td>\n",
       "      <td>0.0</td>\n",
       "      <td>0.047871</td>\n",
       "      <td>0.000097</td>\n",
       "    </tr>\n",
       "    <tr>\n",
       "      <th>2016-01-07 00:00:00+00:00</th>\n",
       "      <td>-0.100167</td>\n",
       "      <td>-0.080731</td>\n",
       "      <td>0.0</td>\n",
       "      <td>-0.099966</td>\n",
       "      <td>0.000097</td>\n",
       "    </tr>\n",
       "    <tr>\n",
       "      <th>2016-01-08 00:00:00+00:00</th>\n",
       "      <td>-0.021627</td>\n",
       "      <td>0.026527</td>\n",
       "      <td>0.0</td>\n",
       "      <td>0.065368</td>\n",
       "      <td>0.000097</td>\n",
       "    </tr>\n",
       "  </tbody>\n",
       "</table>\n",
       "</div>"
      ],
      "text/plain": [
       "                             300001    000333  600771    600645      cash\n",
       "2016-01-04 00:00:00+00:00 -0.099644 -0.094482     0.0 -0.099985  0.000096\n",
       "2016-01-05 00:00:00+00:00 -0.055950  0.054211     0.0 -0.032473  0.000097\n",
       "2016-01-06 00:00:00+00:00  0.020717  0.008265     0.0  0.047871  0.000097\n",
       "2016-01-07 00:00:00+00:00 -0.100167 -0.080731     0.0 -0.099966  0.000097\n",
       "2016-01-08 00:00:00+00:00 -0.021627  0.026527     0.0  0.065368  0.000097"
      ]
     },
     "execution_count": 6,
     "metadata": {},
     "output_type": "execute_result"
    }
   ],
   "source": [
    "rets.head()"
   ]
  },
  {
   "cell_type": "markdown",
   "metadata": {},
   "source": [
    "We compute rolling estimates of the first and second moments of the returns using a window of 250 days. We shift them by one unit (so at every day we present the optimizer with only past data).\n",
    "\n",
    "计算滚动244天"
   ]
  },
  {
   "cell_type": "code",
   "execution_count": 7,
   "metadata": {
    "ExecuteTime": {
     "end_time": "2018-05-28T13:48:10.647231Z",
     "start_time": "2018-05-28T13:48:10.348455Z"
    }
   },
   "outputs": [
    {
     "data": {
      "text/html": [
       "<div>\n",
       "<style scoped>\n",
       "    .dataframe tbody tr th:only-of-type {\n",
       "        vertical-align: middle;\n",
       "    }\n",
       "\n",
       "    .dataframe tbody tr th {\n",
       "        vertical-align: top;\n",
       "    }\n",
       "\n",
       "    .dataframe thead th {\n",
       "        text-align: right;\n",
       "    }\n",
       "</style>\n",
       "<table border=\"1\" class=\"dataframe\">\n",
       "  <thead>\n",
       "    <tr style=\"text-align: right;\">\n",
       "      <th></th>\n",
       "      <th>300001</th>\n",
       "      <th>000333</th>\n",
       "      <th>600771</th>\n",
       "      <th>600645</th>\n",
       "      <th>cash</th>\n",
       "    </tr>\n",
       "  </thead>\n",
       "  <tbody>\n",
       "    <tr>\n",
       "      <th>2018-05-21 00:00:00+00:00</th>\n",
       "      <td>-0.001113</td>\n",
       "      <td>0.002156</td>\n",
       "      <td>0.001664</td>\n",
       "      <td>0.000444</td>\n",
       "      <td>0.000141</td>\n",
       "    </tr>\n",
       "    <tr>\n",
       "      <th>2018-05-22 00:00:00+00:00</th>\n",
       "      <td>-0.000842</td>\n",
       "      <td>0.002035</td>\n",
       "      <td>0.001665</td>\n",
       "      <td>0.000487</td>\n",
       "      <td>0.000141</td>\n",
       "    </tr>\n",
       "    <tr>\n",
       "      <th>2018-05-23 00:00:00+00:00</th>\n",
       "      <td>-0.000693</td>\n",
       "      <td>0.001857</td>\n",
       "      <td>0.001810</td>\n",
       "      <td>0.000819</td>\n",
       "      <td>0.000141</td>\n",
       "    </tr>\n",
       "    <tr>\n",
       "      <th>2018-05-24 00:00:00+00:00</th>\n",
       "      <td>-0.000614</td>\n",
       "      <td>0.001780</td>\n",
       "      <td>0.001805</td>\n",
       "      <td>0.000991</td>\n",
       "      <td>0.000141</td>\n",
       "    </tr>\n",
       "    <tr>\n",
       "      <th>2018-05-25 00:00:00+00:00</th>\n",
       "      <td>-0.000689</td>\n",
       "      <td>0.001733</td>\n",
       "      <td>0.001766</td>\n",
       "      <td>0.000936</td>\n",
       "      <td>0.000141</td>\n",
       "    </tr>\n",
       "  </tbody>\n",
       "</table>\n",
       "</div>"
      ],
      "text/plain": [
       "                             300001    000333    600771    600645      cash\n",
       "2018-05-21 00:00:00+00:00 -0.001113  0.002156  0.001664  0.000444  0.000141\n",
       "2018-05-22 00:00:00+00:00 -0.000842  0.002035  0.001665  0.000487  0.000141\n",
       "2018-05-23 00:00:00+00:00 -0.000693  0.001857  0.001810  0.000819  0.000141\n",
       "2018-05-24 00:00:00+00:00 -0.000614  0.001780  0.001805  0.000991  0.000141\n",
       "2018-05-25 00:00:00+00:00 -0.000689  0.001733  0.001766  0.000936  0.000141"
      ]
     },
     "execution_count": 7,
     "metadata": {},
     "output_type": "execute_result"
    }
   ],
   "source": [
    "r_hat = rets.rolling(window=244, min_periods=244).mean().shift(1).dropna()\n",
    "Sigma_hat = rets.rolling(window=244, min_periods=244, closed='neither').cov().dropna()\n",
    "\n",
    "r_hat.tail()"
   ]
  },
  {
   "cell_type": "code",
   "execution_count": 8,
   "metadata": {
    "ExecuteTime": {
     "end_time": "2018-05-28T13:48:10.668075Z",
     "start_time": "2018-05-28T13:48:10.650105Z"
    }
   },
   "outputs": [
    {
     "data": {
      "text/html": [
       "<div>\n",
       "<style scoped>\n",
       "    .dataframe tbody tr th:only-of-type {\n",
       "        vertical-align: middle;\n",
       "    }\n",
       "\n",
       "    .dataframe tbody tr th {\n",
       "        vertical-align: top;\n",
       "    }\n",
       "\n",
       "    .dataframe thead th {\n",
       "        text-align: right;\n",
       "    }\n",
       "</style>\n",
       "<table border=\"1\" class=\"dataframe\">\n",
       "  <thead>\n",
       "    <tr style=\"text-align: right;\">\n",
       "      <th></th>\n",
       "      <th></th>\n",
       "      <th>300001</th>\n",
       "      <th>000333</th>\n",
       "      <th>600771</th>\n",
       "      <th>600645</th>\n",
       "      <th>cash</th>\n",
       "    </tr>\n",
       "  </thead>\n",
       "  <tbody>\n",
       "    <tr>\n",
       "      <th rowspan=\"5\" valign=\"top\">2018-05-25 00:00:00+00:00</th>\n",
       "      <th>300001</th>\n",
       "      <td>3.816810e-04</td>\n",
       "      <td>4.955195e-05</td>\n",
       "      <td>6.266618e-05</td>\n",
       "      <td>1.308376e-04</td>\n",
       "      <td>-4.692746e-09</td>\n",
       "    </tr>\n",
       "    <tr>\n",
       "      <th>000333</th>\n",
       "      <td>4.955195e-05</td>\n",
       "      <td>4.643027e-04</td>\n",
       "      <td>5.308990e-05</td>\n",
       "      <td>-1.406242e-05</td>\n",
       "      <td>9.682933e-09</td>\n",
       "    </tr>\n",
       "    <tr>\n",
       "      <th>600771</th>\n",
       "      <td>6.266618e-05</td>\n",
       "      <td>5.308990e-05</td>\n",
       "      <td>3.135805e-04</td>\n",
       "      <td>3.150643e-05</td>\n",
       "      <td>-1.145340e-08</td>\n",
       "    </tr>\n",
       "    <tr>\n",
       "      <th>600645</th>\n",
       "      <td>1.308376e-04</td>\n",
       "      <td>-1.406242e-05</td>\n",
       "      <td>3.150643e-05</td>\n",
       "      <td>7.150218e-04</td>\n",
       "      <td>-5.462981e-09</td>\n",
       "    </tr>\n",
       "    <tr>\n",
       "      <th>cash</th>\n",
       "      <td>-4.692746e-09</td>\n",
       "      <td>9.682933e-09</td>\n",
       "      <td>-1.145340e-08</td>\n",
       "      <td>-5.462981e-09</td>\n",
       "      <td>6.828097e-11</td>\n",
       "    </tr>\n",
       "  </tbody>\n",
       "</table>\n",
       "</div>"
      ],
      "text/plain": [
       "                                        300001        000333        600771  \\\n",
       "2018-05-25 00:00:00+00:00 300001  3.816810e-04  4.955195e-05  6.266618e-05   \n",
       "                          000333  4.955195e-05  4.643027e-04  5.308990e-05   \n",
       "                          600771  6.266618e-05  5.308990e-05  3.135805e-04   \n",
       "                          600645  1.308376e-04 -1.406242e-05  3.150643e-05   \n",
       "                          cash   -4.692746e-09  9.682933e-09 -1.145340e-08   \n",
       "\n",
       "                                        600645          cash  \n",
       "2018-05-25 00:00:00+00:00 300001  1.308376e-04 -4.692746e-09  \n",
       "                          000333 -1.406242e-05  9.682933e-09  \n",
       "                          600771  3.150643e-05 -1.145340e-08  \n",
       "                          600645  7.150218e-04 -5.462981e-09  \n",
       "                          cash   -5.462981e-09  6.828097e-11  "
      ]
     },
     "execution_count": 8,
     "metadata": {},
     "output_type": "execute_result"
    }
   ],
   "source": [
    "Sigma_hat.tail()"
   ]
  },
  {
   "cell_type": "markdown",
   "metadata": {},
   "source": [
    "Here we define the transaction cost and holding cost model (sections 2.3 and 2.4 [of the paper](https://web.stanford.edu/~boyd/papers/cvx_portfolio.html)). The data can be expressed \n",
    "as \n",
    "- a scalar (like we're doing here), the same value for all assets and all time periods;\n",
    "- a Pandas Series indexed by the asset names, for asset-specific values; \n",
    "- a Pandas DataFrame indexed by timestamps with asset names as columns, for values that vary by asset and in time.\n",
    "\n",
    "定义交易成本及持有成本\n",
    "- 标量：所有时间及资产一个固定值\n",
    "- 序列：特定资产固定值\n",
    "- 数据框：随时间及资产而变化的值"
   ]
  },
  {
   "cell_type": "code",
   "execution_count": 9,
   "metadata": {
    "ExecuteTime": {
     "end_time": "2018-05-28T13:48:10.677498Z",
     "start_time": "2018-05-28T13:48:10.672065Z"
    }
   },
   "outputs": [],
   "source": [
    "tcost_model=cp.TcostModel(half_spread=10E-4)\n",
    "hcost_model=cp.HcostModel(borrow_costs=1E-4)"
   ]
  },
  {
   "cell_type": "markdown",
   "metadata": {},
   "source": [
    "We define the single period optimization policy (section 4 [of the paper](https://web.stanford.edu/~boyd/papers/cvx_portfolio.html)). "
   ]
  },
  {
   "cell_type": "code",
   "execution_count": 10,
   "metadata": {
    "ExecuteTime": {
     "end_time": "2018-05-28T13:48:10.687896Z",
     "start_time": "2018-05-28T13:48:10.681130Z"
    }
   },
   "outputs": [],
   "source": [
    "risk_model = cp.FullSigma(Sigma_hat)\n",
    "gamma_risk, gamma_trade, gamma_hold = 5., 1., 1.\n",
    "leverage_limit = cp.LeverageLimit(1)\n",
    "\n",
    "spo_policy = cp.SinglePeriodOpt(return_forecast=r_hat, \n",
    "                                costs=[gamma_risk*risk_model, gamma_trade*tcost_model, gamma_hold*hcost_model],\n",
    "                                constraints=[leverage_limit])"
   ]
  },
  {
   "cell_type": "markdown",
   "metadata": {},
   "source": [
    "We run a backtest, which returns a result object. By calling its summary method we get some basic statistics.\n",
    "\n",
    "运行回测，返回结果对象。调用统计描述方法获取基础统计信息。"
   ]
  },
  {
   "cell_type": "code",
   "execution_count": 11,
   "metadata": {
    "ExecuteTime": {
     "end_time": "2018-05-28T13:48:10.707314Z",
     "start_time": "2018-05-28T13:48:10.693224Z"
    }
   },
   "outputs": [],
   "source": [
    "rets = rets.loc[r_hat.index] # 与r_hat时间同步"
   ]
  },
  {
   "cell_type": "code",
   "execution_count": 12,
   "metadata": {
    "ExecuteTime": {
     "end_time": "2018-05-28T13:48:26.188095Z",
     "start_time": "2018-05-28T13:48:10.710729Z"
    }
   },
   "outputs": [
    {
     "name": "stdout",
     "output_type": "stream",
     "text": [
      "Number of periods                                     339\n",
      "Initial timestamp               2017-01-03 00:00:00+00:00\n",
      "Final timestamp                 2018-05-25 00:00:00+00:00\n",
      "Portfolio return (%)                               31.596\n",
      "Excess return (%)                                  28.191\n",
      "Excess risk (%)                                    18.959\n",
      "Sharpe ratio                                        1.489\n",
      "Max. drawdown                                      13.286\n",
      "Turnover (%)                                       55.781\n",
      "Average policy time (sec)                           0.023\n",
      "Average simulator time (sec)                        0.003\n"
     ]
    }
   ],
   "source": [
    "market_sim=cp.MarketSimulator(rets, [tcost_model, hcost_model], cash_key='cash') \n",
    "init_portfolio = pd.Series(index=rets.columns, data=250000.)\n",
    "init_portfolio.USDOLLAR = 0\n",
    "results = market_sim.run_multiple_backtest(init_portfolio,\n",
    "                               start_time=start,  end_time=end,  \n",
    "                               policies=[spo_policy, cp.Hold()])\n",
    "results[0].summary()"
   ]
  },
  {
   "cell_type": "code",
   "execution_count": 16,
   "metadata": {
    "ExecuteTime": {
     "end_time": "2018-05-28T13:54:41.339547Z",
     "start_time": "2018-05-28T13:54:41.308928Z"
    }
   },
   "outputs": [
    {
     "name": "stdout",
     "output_type": "stream",
     "text": [
      "Number of periods                                     339\n",
      "Initial timestamp               2017-01-03 00:00:00+00:00\n",
      "Final timestamp                 2018-05-25 00:00:00+00:00\n",
      "Portfolio return (%)                               17.464\n",
      "Excess return (%)                                  14.059\n",
      "Excess risk (%)                                    15.488\n",
      "Sharpe ratio                                        0.909\n",
      "Max. drawdown                                      14.403\n",
      "Turnover (%)                                        0.000\n",
      "Average policy time (sec)                           0.000\n",
      "Average simulator time (sec)                        0.003\n"
     ]
    }
   ],
   "source": [
    "results[1].summary()"
   ]
  },
  {
   "cell_type": "markdown",
   "metadata": {},
   "source": [
    "The total value of the portfolio in time.\n",
    "\n",
    "投资组合总值时间序列"
   ]
  },
  {
   "cell_type": "code",
   "execution_count": 14,
   "metadata": {
    "ExecuteTime": {
     "end_time": "2018-05-28T13:48:26.588684Z",
     "start_time": "2018-05-28T13:48:26.210953Z"
    }
   },
   "outputs": [
    {
     "data": {
      "text/plain": [
       "<matplotlib.axes._subplots.AxesSubplot at 0x7fa9d632c6d8>"
      ]
     },
     "execution_count": 14,
     "metadata": {},
     "output_type": "execute_result"
    },
    {
     "data": {
      "image/png": "[encoded data removed]",
      "text/plain": [
       "<Figure size 864x360 with 1 Axes>"
      ]
     },
     "metadata": {},
     "output_type": "display_data"
    }
   ],
   "source": [
    "results[0].v.plot(figsize=(12,5))\n",
    "results[1].v.plot(figsize=(12,5))"
   ]
  },
  {
   "cell_type": "markdown",
   "metadata": {},
   "source": [
    "The weights vector of the portfolio in time.\n",
    "\n",
    "投资组合权重矢量时间序列"
   ]
  },
  {
   "cell_type": "code",
   "execution_count": 15,
   "metadata": {
    "ExecuteTime": {
     "end_time": "2018-05-28T13:48:26.966165Z",
     "start_time": "2018-05-28T13:48:26.591533Z"
    }
   },
   "outputs": [
    {
     "data": {
      "text/plain": [
       "<matplotlib.axes._subplots.AxesSubplot at 0x7fa9d63a3e48>"
      ]
     },
     "execution_count": 15,
     "metadata": {},
     "output_type": "execute_result"
    },
    {
     "data": {
      "image/png": "[encoded data removed]",
      "text/plain": [
       "<Figure size 864x432 with 1 Axes>"
      ]
     },
     "metadata": {},
     "output_type": "display_data"
    }
   ],
   "source": [
    "results[0].w.plot(figsize=(12,6))"
   ]
  },
  {
   "cell_type": "code",
   "execution_count": 17,
   "metadata": {
    "ExecuteTime": {
     "end_time": "2018-05-28T13:56:58.068200Z",
     "start_time": "2018-05-28T13:56:58.060259Z"
    }
   },
   "outputs": [],
   "source": [
    "result = results[0]"
   ]
  },
  {
   "cell_type": "code",
   "execution_count": 18,
   "metadata": {
    "ExecuteTime": {
     "end_time": "2018-05-28T13:57:15.196017Z",
     "start_time": "2018-05-28T13:57:15.184146Z"
    }
   },
   "outputs": [
    {
     "data": {
      "text/plain": [
       "613950.4461138877"
      ]
     },
     "execution_count": 18,
     "metadata": {},
     "output_type": "execute_result"
    }
   ],
   "source": [
    "result.profit"
   ]
  },
  {
   "cell_type": "code",
   "execution_count": 20,
   "metadata": {
    "ExecuteTime": {
     "end_time": "2018-05-28T13:57:53.346792Z",
     "start_time": "2018-05-28T13:57:53.322734Z"
    }
   },
   "outputs": [
    {
     "data": {
      "text/html": [
       "<div>\n",
       "<style scoped>\n",
       "    .dataframe tbody tr th:only-of-type {\n",
       "        vertical-align: middle;\n",
       "    }\n",
       "\n",
       "    .dataframe tbody tr th {\n",
       "        vertical-align: top;\n",
       "    }\n",
       "\n",
       "    .dataframe thead th {\n",
       "        text-align: right;\n",
       "    }\n",
       "</style>\n",
       "<table border=\"1\" class=\"dataframe\">\n",
       "  <thead>\n",
       "    <tr style=\"text-align: right;\">\n",
       "      <th></th>\n",
       "      <th>300001</th>\n",
       "      <th>000333</th>\n",
       "      <th>600771</th>\n",
       "      <th>600645</th>\n",
       "      <th>cash</th>\n",
       "    </tr>\n",
       "  </thead>\n",
       "  <tbody>\n",
       "    <tr>\n",
       "      <th>2018-05-21 00:00:00+00:00</th>\n",
       "      <td>3.188864e-09</td>\n",
       "      <td>0.549728</td>\n",
       "      <td>0.264408</td>\n",
       "      <td>6.862404e-08</td>\n",
       "      <td>0.185864</td>\n",
       "    </tr>\n",
       "    <tr>\n",
       "      <th>2018-05-22 00:00:00+00:00</th>\n",
       "      <td>2.581116e-09</td>\n",
       "      <td>0.549911</td>\n",
       "      <td>0.264346</td>\n",
       "      <td>7.358363e-08</td>\n",
       "      <td>0.185743</td>\n",
       "    </tr>\n",
       "    <tr>\n",
       "      <th>2018-05-23 00:00:00+00:00</th>\n",
       "      <td>2.048447e-09</td>\n",
       "      <td>0.538615</td>\n",
       "      <td>0.274871</td>\n",
       "      <td>8.641588e-08</td>\n",
       "      <td>0.186514</td>\n",
       "    </tr>\n",
       "    <tr>\n",
       "      <th>2018-05-24 00:00:00+00:00</th>\n",
       "      <td>1.002555e-09</td>\n",
       "      <td>0.536032</td>\n",
       "      <td>0.275350</td>\n",
       "      <td>9.275207e-08</td>\n",
       "      <td>0.188618</td>\n",
       "    </tr>\n",
       "    <tr>\n",
       "      <th>2018-05-25 00:00:00+00:00</th>\n",
       "      <td>3.426895e-09</td>\n",
       "      <td>0.531138</td>\n",
       "      <td>0.276032</td>\n",
       "      <td>9.373036e-08</td>\n",
       "      <td>0.192830</td>\n",
       "    </tr>\n",
       "  </tbody>\n",
       "</table>\n",
       "</div>"
      ],
      "text/plain": [
       "                                 300001    000333    600771        600645  \\\n",
       "2018-05-21 00:00:00+00:00  3.188864e-09  0.549728  0.264408  6.862404e-08   \n",
       "2018-05-22 00:00:00+00:00  2.581116e-09  0.549911  0.264346  7.358363e-08   \n",
       "2018-05-23 00:00:00+00:00  2.048447e-09  0.538615  0.274871  8.641588e-08   \n",
       "2018-05-24 00:00:00+00:00  1.002555e-09  0.536032  0.275350  9.275207e-08   \n",
       "2018-05-25 00:00:00+00:00  3.426895e-09  0.531138  0.276032  9.373036e-08   \n",
       "\n",
       "                               cash  \n",
       "2018-05-21 00:00:00+00:00  0.185864  \n",
       "2018-05-22 00:00:00+00:00  0.185743  \n",
       "2018-05-23 00:00:00+00:00  0.186514  \n",
       "2018-05-24 00:00:00+00:00  0.188618  \n",
       "2018-05-25 00:00:00+00:00  0.192830  "
      ]
     },
     "execution_count": 20,
     "metadata": {},
     "output_type": "execute_result"
    }
   ],
   "source": [
    "result.w.tail()"
   ]
  },
  {
   "cell_type": "code",
   "execution_count": 22,
   "metadata": {
    "ExecuteTime": {
     "end_time": "2018-05-28T13:58:35.425129Z",
     "start_time": "2018-05-28T13:58:35.390579Z"
    }
   },
   "outputs": [
    {
     "data": {
      "text/plain": [
       "2018-05-21 00:00:00+00:00    1.0\n",
       "2018-05-22 00:00:00+00:00    1.0\n",
       "2018-05-23 00:00:00+00:00    1.0\n",
       "2018-05-24 00:00:00+00:00    1.0\n",
       "2018-05-25 00:00:00+00:00    1.0\n",
       "dtype: float64"
      ]
     },
     "execution_count": 22,
     "metadata": {},
     "output_type": "execute_result"
    }
   ],
   "source": [
    "result.leverage.tail()"
   ]
  },
  {
   "cell_type": "code",
   "execution_count": 24,
   "metadata": {
    "ExecuteTime": {
     "end_time": "2018-05-28T13:59:08.377507Z",
     "start_time": "2018-05-28T13:59:08.341208Z"
    }
   },
   "outputs": [
    {
     "data": {
      "text/plain": [
       "2018-05-18 00:00:00+00:00    0.003699\n",
       "2018-05-21 00:00:00+00:00    0.000780\n",
       "2018-05-22 00:00:00+00:00   -0.004015\n",
       "2018-05-23 00:00:00+00:00   -0.011090\n",
       "2018-05-24 00:00:00+00:00   -0.011915\n",
       "dtype: float64"
      ]
     },
     "execution_count": 24,
     "metadata": {},
     "output_type": "execute_result"
    }
   ],
   "source": [
    "result.growth_rates.tail()"
   ]
  },
  {
   "cell_type": "code",
   "execution_count": 25,
   "metadata": {
    "ExecuteTime": {
     "end_time": "2018-05-28T13:59:29.750042Z",
     "start_time": "2018-05-28T13:59:29.737199Z"
    }
   },
   "outputs": [
    {
     "data": {
      "text/plain": [
       "0.297892763707177"
      ]
     },
     "execution_count": 25,
     "metadata": {},
     "output_type": "execute_result"
    }
   ],
   "source": [
    "result.annual_growth_rate"
   ]
  },
  {
   "cell_type": "code",
   "execution_count": 26,
   "metadata": {
    "ExecuteTime": {
     "end_time": "2018-05-28T13:59:41.767456Z",
     "start_time": "2018-05-28T13:59:41.759450Z"
    }
   },
   "outputs": [
    {
     "data": {
      "text/plain": [
       "34.70173309892382"
      ]
     },
     "execution_count": 26,
     "metadata": {},
     "output_type": "execute_result"
    }
   ],
   "source": [
    "result.annual_return"
   ]
  },
  {
   "cell_type": "code",
   "execution_count": 28,
   "metadata": {
    "ExecuteTime": {
     "end_time": "2018-05-28T14:00:38.920625Z",
     "start_time": "2018-05-28T14:00:38.872286Z"
    }
   },
   "outputs": [
    {
     "data": {
      "text/plain": [
       "2018-05-18 00:00:00+00:00    0.003706\n",
       "2018-05-21 00:00:00+00:00    0.000780\n",
       "2018-05-22 00:00:00+00:00   -0.004007\n",
       "2018-05-23 00:00:00+00:00   -0.011029\n",
       "2018-05-24 00:00:00+00:00   -0.011845\n",
       "dtype: float64"
      ]
     },
     "execution_count": 28,
     "metadata": {},
     "output_type": "execute_result"
    }
   ],
   "source": [
    "result.returns.tail()"
   ]
  },
  {
   "cell_type": "code",
   "execution_count": 29,
   "metadata": {
    "ExecuteTime": {
     "end_time": "2018-05-28T14:09:50.240378Z",
     "start_time": "2018-05-28T14:09:50.237164Z"
    }
   },
   "outputs": [],
   "source": [
    "import logging"
   ]
  },
  {
   "cell_type": "code",
   "execution_count": 30,
   "metadata": {
    "ExecuteTime": {
     "end_time": "2018-05-28T14:10:19.671406Z",
     "start_time": "2018-05-28T14:09:58.656636Z"
    }
   },
   "outputs": [
    {
     "name": "stderr",
     "output_type": "stream",
     "text": [
      "INFO:root:Backtest started, from 2017-01-03 00:00:00+00:00 to 2018-05-25 00:00:00+00:00\n",
      "INFO:root:Getting trades at time 2017-01-03 00:00:00+00:00\n",
      "INFO:root:Propagating portfolio at time 2017-01-03 00:00:00+00:00\n",
      "INFO:root:Getting trades at time 2017-01-04 00:00:00+00:00\n",
      "INFO:root:Propagating portfolio at time 2017-01-04 00:00:00+00:00\n",
      "INFO:root:Getting trades at time 2017-01-05 00:00:00+00:00\n",
      "INFO:root:Propagating portfolio at time 2017-01-05 00:00:00+00:00\n",
      "INFO:root:Getting trades at time 2017-01-06 00:00:00+00:00\n",
      "INFO:root:Propagating portfolio at time 2017-01-06 00:00:00+00:00\n",
      "INFO:root:Getting trades at time 2017-01-09 00:00:00+00:00\n",
      "INFO:root:Propagating portfolio at time 2017-01-09 00:00:00+00:00\n",
      "INFO:root:Getting trades at time 2017-01-10 00:00:00+00:00\n",
      "INFO:root:Propagating portfolio at time 2017-01-10 00:00:00+00:00\n",
      "INFO:root:Getting trades at time 2017-01-11 00:00:00+00:00\n",
      "INFO:root:Propagating portfolio at time 2017-01-11 00:00:00+00:00\n",
      "INFO:root:Getting trades at time 2017-01-12 00:00:00+00:00\n",
      "INFO:root:Propagating portfolio at time 2017-01-12 00:00:00+00:00\n",
      "INFO:root:Getting trades at time 2017-01-13 00:00:00+00:00\n",
      "INFO:root:Propagating portfolio at time 2017-01-13 00:00:00+00:00\n",
      "INFO:root:Getting trades at time 2017-01-16 00:00:00+00:00\n",
      "INFO:root:Propagating portfolio at time 2017-01-16 00:00:00+00:00\n",
      "INFO:root:Getting trades at time 2017-01-17 00:00:00+00:00\n",
      "INFO:root:Propagating portfolio at time 2017-01-17 00:00:00+00:00\n",
      "INFO:root:Getting trades at time 2017-01-18 00:00:00+00:00\n",
      "INFO:root:Propagating portfolio at time 2017-01-18 00:00:00+00:00\n",
      "INFO:root:Getting trades at time 2017-01-19 00:00:00+00:00\n",
      "INFO:root:Propagating portfolio at time 2017-01-19 00:00:00+00:00\n",
      "INFO:root:Getting trades at time 2017-01-20 00:00:00+00:00\n",
      "INFO:root:Propagating portfolio at time 2017-01-20 00:00:00+00:00\n",
      "INFO:root:Getting trades at time 2017-01-23 00:00:00+00:00\n",
      "INFO:root:Propagating portfolio at time 2017-01-23 00:00:00+00:00\n",
      "INFO:root:Getting trades at time 2017-01-24 00:00:00+00:00\n",
      "INFO:root:Propagating portfolio at time 2017-01-24 00:00:00+00:00\n",
      "INFO:root:Getting trades at time 2017-01-25 00:00:00+00:00\n",
      "INFO:root:Propagating portfolio at time 2017-01-25 00:00:00+00:00\n",
      "INFO:root:Getting trades at time 2017-01-26 00:00:00+00:00\n",
      "INFO:root:Propagating portfolio at time 2017-01-26 00:00:00+00:00\n",
      "INFO:root:Getting trades at time 2017-02-03 00:00:00+00:00\n",
      "INFO:root:Propagating portfolio at time 2017-02-03 00:00:00+00:00\n",
      "INFO:root:Getting trades at time 2017-02-06 00:00:00+00:00\n",
      "INFO:root:Propagating portfolio at time 2017-02-06 00:00:00+00:00\n",
      "INFO:root:Getting trades at time 2017-02-07 00:00:00+00:00\n",
      "INFO:root:Propagating portfolio at time 2017-02-07 00:00:00+00:00\n",
      "INFO:root:Getting trades at time 2017-02-08 00:00:00+00:00\n",
      "INFO:root:Propagating portfolio at time 2017-02-08 00:00:00+00:00\n",
      "INFO:root:Getting trades at time 2017-02-09 00:00:00+00:00\n",
      "INFO:root:Propagating portfolio at time 2017-02-09 00:00:00+00:00\n",
      "INFO:root:Getting trades at time 2017-02-10 00:00:00+00:00\n",
      "INFO:root:Propagating portfolio at time 2017-02-10 00:00:00+00:00\n",
      "INFO:root:Getting trades at time 2017-02-13 00:00:00+00:00\n",
      "INFO:root:Propagating portfolio at time 2017-02-13 00:00:00+00:00\n",
      "INFO:root:Getting trades at time 2017-02-14 00:00:00+00:00\n",
      "INFO:root:Propagating portfolio at time 2017-02-14 00:00:00+00:00\n",
      "INFO:root:Getting trades at time 2017-02-15 00:00:00+00:00\n",
      "INFO:root:Propagating portfolio at time 2017-02-15 00:00:00+00:00\n",
      "INFO:root:Getting trades at time 2017-02-16 00:00:00+00:00\n",
      "INFO:root:Propagating portfolio at time 2017-02-16 00:00:00+00:00\n",
      "INFO:root:Getting trades at time 2017-02-17 00:00:00+00:00\n",
      "INFO:root:Propagating portfolio at time 2017-02-17 00:00:00+00:00\n",
      "INFO:root:Getting trades at time 2017-02-20 00:00:00+00:00\n",
      "INFO:root:Propagating portfolio at time 2017-02-20 00:00:00+00:00\n",
      "INFO:root:Getting trades at time 2017-02-21 00:00:00+00:00\n",
      "INFO:root:Propagating portfolio at time 2017-02-21 00:00:00+00:00\n",
      "INFO:root:Getting trades at time 2017-02-22 00:00:00+00:00\n",
      "INFO:root:Propagating portfolio at time 2017-02-22 00:00:00+00:00\n",
      "INFO:root:Getting trades at time 2017-02-23 00:00:00+00:00\n",
      "INFO:root:Propagating portfolio at time 2017-02-23 00:00:00+00:00\n",
      "INFO:root:Getting trades at time 2017-02-24 00:00:00+00:00\n",
      "INFO:root:Propagating portfolio at time 2017-02-24 00:00:00+00:00\n",
      "INFO:root:Getting trades at time 2017-02-27 00:00:00+00:00\n",
      "INFO:root:Propagating portfolio at time 2017-02-27 00:00:00+00:00\n",
      "INFO:root:Getting trades at time 2017-02-28 00:00:00+00:00\n",
      "INFO:root:Propagating portfolio at time 2017-02-28 00:00:00+00:00\n",
      "INFO:root:Getting trades at time 2017-03-01 00:00:00+00:00\n",
      "INFO:root:Propagating portfolio at time 2017-03-01 00:00:00+00:00\n",
      "INFO:root:Getting trades at time 2017-03-02 00:00:00+00:00\n",
      "INFO:root:Propagating portfolio at time 2017-03-02 00:00:00+00:00\n",
      "INFO:root:Getting trades at time 2017-03-03 00:00:00+00:00\n",
      "INFO:root:Propagating portfolio at time 2017-03-03 00:00:00+00:00\n",
      "INFO:root:Getting trades at time 2017-03-06 00:00:00+00:00\n",
      "INFO:root:Propagating portfolio at time 2017-03-06 00:00:00+00:00\n",
      "INFO:root:Getting trades at time 2017-03-07 00:00:00+00:00\n",
      "INFO:root:Propagating portfolio at time 2017-03-07 00:00:00+00:00\n",
      "INFO:root:Getting trades at time 2017-03-08 00:00:00+00:00\n",
      "INFO:root:Propagating portfolio at time 2017-03-08 00:00:00+00:00\n",
      "INFO:root:Getting trades at time 2017-03-09 00:00:00+00:00\n",
      "INFO:root:Propagating portfolio at time 2017-03-09 00:00:00+00:00\n",
      "INFO:root:Getting trades at time 2017-03-10 00:00:00+00:00\n",
      "INFO:root:Propagating portfolio at time 2017-03-10 00:00:00+00:00\n",
      "INFO:root:Getting trades at time 2017-03-13 00:00:00+00:00\n",
      "INFO:root:Propagating portfolio at time 2017-03-13 00:00:00+00:00\n",
      "INFO:root:Getting trades at time 2017-03-14 00:00:00+00:00\n",
      "INFO:root:Propagating portfolio at time 2017-03-14 00:00:00+00:00\n",
      "INFO:root:Getting trades at time 2017-03-15 00:00:00+00:00\n",
      "INFO:root:Propagating portfolio at time 2017-03-15 00:00:00+00:00\n",
      "INFO:root:Getting trades at time 2017-03-16 00:00:00+00:00\n",
      "INFO:root:Propagating portfolio at time 2017-03-16 00:00:00+00:00\n",
      "INFO:root:Getting trades at time 2017-03-17 00:00:00+00:00\n",
      "INFO:root:Propagating portfolio at time 2017-03-17 00:00:00+00:00\n",
      "INFO:root:Getting trades at time 2017-03-20 00:00:00+00:00\n",
      "INFO:root:Propagating portfolio at time 2017-03-20 00:00:00+00:00\n",
      "INFO:root:Getting trades at time 2017-03-21 00:00:00+00:00\n",
      "INFO:root:Propagating portfolio at time 2017-03-21 00:00:00+00:00\n",
      "INFO:root:Getting trades at time 2017-03-22 00:00:00+00:00\n",
      "INFO:root:Propagating portfolio at time 2017-03-22 00:00:00+00:00\n",
      "INFO:root:Getting trades at time 2017-03-23 00:00:00+00:00\n",
      "INFO:root:Propagating portfolio at time 2017-03-23 00:00:00+00:00\n",
      "INFO:root:Getting trades at time 2017-03-24 00:00:00+00:00\n",
      "INFO:root:Propagating portfolio at time 2017-03-24 00:00:00+00:00\n",
      "INFO:root:Getting trades at time 2017-03-27 00:00:00+00:00\n",
      "INFO:root:Propagating portfolio at time 2017-03-27 00:00:00+00:00\n",
      "INFO:root:Getting trades at time 2017-03-28 00:00:00+00:00\n",
      "INFO:root:Propagating portfolio at time 2017-03-28 00:00:00+00:00\n",
      "INFO:root:Getting trades at time 2017-03-29 00:00:00+00:00\n",
      "INFO:root:Propagating portfolio at time 2017-03-29 00:00:00+00:00\n",
      "INFO:root:Getting trades at time 2017-03-30 00:00:00+00:00\n",
      "INFO:root:Propagating portfolio at time 2017-03-30 00:00:00+00:00\n",
      "INFO:root:Getting trades at time 2017-03-31 00:00:00+00:00\n",
      "INFO:root:Propagating portfolio at time 2017-03-31 00:00:00+00:00\n",
      "INFO:root:Getting trades at time 2017-04-05 00:00:00+00:00\n",
      "INFO:root:Propagating portfolio at time 2017-04-05 00:00:00+00:00\n",
      "INFO:root:Getting trades at time 2017-04-06 00:00:00+00:00\n",
      "INFO:root:Propagating portfolio at time 2017-04-06 00:00:00+00:00\n",
      "INFO:root:Getting trades at time 2017-04-07 00:00:00+00:00\n",
      "INFO:root:Propagating portfolio at time 2017-04-07 00:00:00+00:00\n",
      "INFO:root:Getting trades at time 2017-04-10 00:00:00+00:00\n",
      "INFO:root:Propagating portfolio at time 2017-04-10 00:00:00+00:00\n",
      "INFO:root:Getting trades at time 2017-04-11 00:00:00+00:00\n",
      "INFO:root:Propagating portfolio at time 2017-04-11 00:00:00+00:00\n",
      "INFO:root:Getting trades at time 2017-04-12 00:00:00+00:00\n",
      "INFO:root:Propagating portfolio at time 2017-04-12 00:00:00+00:00\n"
     ]
    },
    {
     "name": "stderr",
     "output_type": "stream",
     "text": [
      "INFO:root:Getting trades at time 2017-04-13 00:00:00+00:00\n",
      "INFO:root:Propagating portfolio at time 2017-04-13 00:00:00+00:00\n",
      "INFO:root:Getting trades at time 2017-04-14 00:00:00+00:00\n",
      "INFO:root:Propagating portfolio at time 2017-04-14 00:00:00+00:00\n",
      "INFO:root:Getting trades at time 2017-04-17 00:00:00+00:00\n",
      "INFO:root:Propagating portfolio at time 2017-04-17 00:00:00+00:00\n",
      "INFO:root:Getting trades at time 2017-04-18 00:00:00+00:00\n",
      "INFO:root:Propagating portfolio at time 2017-04-18 00:00:00+00:00\n",
      "INFO:root:Getting trades at time 2017-04-19 00:00:00+00:00\n",
      "INFO:root:Propagating portfolio at time 2017-04-19 00:00:00+00:00\n",
      "INFO:root:Getting trades at time 2017-04-20 00:00:00+00:00\n",
      "INFO:root:Propagating portfolio at time 2017-04-20 00:00:00+00:00\n",
      "INFO:root:Getting trades at time 2017-04-21 00:00:00+00:00\n",
      "INFO:root:Propagating portfolio at time 2017-04-21 00:00:00+00:00\n",
      "INFO:root:Getting trades at time 2017-04-24 00:00:00+00:00\n",
      "INFO:root:Propagating portfolio at time 2017-04-24 00:00:00+00:00\n",
      "INFO:root:Getting trades at time 2017-04-25 00:00:00+00:00\n",
      "INFO:root:Propagating portfolio at time 2017-04-25 00:00:00+00:00\n",
      "INFO:root:Getting trades at time 2017-04-26 00:00:00+00:00\n",
      "INFO:root:Propagating portfolio at time 2017-04-26 00:00:00+00:00\n",
      "INFO:root:Getting trades at time 2017-04-27 00:00:00+00:00\n",
      "INFO:root:Propagating portfolio at time 2017-04-27 00:00:00+00:00\n",
      "INFO:root:Getting trades at time 2017-04-28 00:00:00+00:00\n",
      "INFO:root:Propagating portfolio at time 2017-04-28 00:00:00+00:00\n",
      "INFO:root:Getting trades at time 2017-05-02 00:00:00+00:00\n",
      "INFO:root:Propagating portfolio at time 2017-05-02 00:00:00+00:00\n",
      "INFO:root:Getting trades at time 2017-05-03 00:00:00+00:00\n",
      "INFO:root:Propagating portfolio at time 2017-05-03 00:00:00+00:00\n",
      "INFO:root:Getting trades at time 2017-05-04 00:00:00+00:00\n",
      "INFO:root:Propagating portfolio at time 2017-05-04 00:00:00+00:00\n",
      "INFO:root:Getting trades at time 2017-05-05 00:00:00+00:00\n",
      "INFO:root:Propagating portfolio at time 2017-05-05 00:00:00+00:00\n",
      "INFO:root:Getting trades at time 2017-05-08 00:00:00+00:00\n",
      "INFO:root:Propagating portfolio at time 2017-05-08 00:00:00+00:00\n",
      "INFO:root:Getting trades at time 2017-05-09 00:00:00+00:00\n",
      "INFO:root:Propagating portfolio at time 2017-05-09 00:00:00+00:00\n",
      "INFO:root:Getting trades at time 2017-05-10 00:00:00+00:00\n",
      "INFO:root:Propagating portfolio at time 2017-05-10 00:00:00+00:00\n",
      "INFO:root:Getting trades at time 2017-05-11 00:00:00+00:00\n",
      "INFO:root:Propagating portfolio at time 2017-05-11 00:00:00+00:00\n",
      "INFO:root:Getting trades at time 2017-05-12 00:00:00+00:00\n",
      "INFO:root:Propagating portfolio at time 2017-05-12 00:00:00+00:00\n",
      "INFO:root:Getting trades at time 2017-05-15 00:00:00+00:00\n",
      "INFO:root:Propagating portfolio at time 2017-05-15 00:00:00+00:00\n",
      "INFO:root:Getting trades at time 2017-05-16 00:00:00+00:00\n",
      "INFO:root:Propagating portfolio at time 2017-05-16 00:00:00+00:00\n",
      "INFO:root:Getting trades at time 2017-05-17 00:00:00+00:00\n",
      "INFO:root:Propagating portfolio at time 2017-05-17 00:00:00+00:00\n",
      "INFO:root:Getting trades at time 2017-05-18 00:00:00+00:00\n",
      "INFO:root:Propagating portfolio at time 2017-05-18 00:00:00+00:00\n",
      "INFO:root:Getting trades at time 2017-05-19 00:00:00+00:00\n",
      "INFO:root:Propagating portfolio at time 2017-05-19 00:00:00+00:00\n",
      "INFO:root:Getting trades at time 2017-05-22 00:00:00+00:00\n",
      "INFO:root:Propagating portfolio at time 2017-05-22 00:00:00+00:00\n",
      "INFO:root:Getting trades at time 2017-05-23 00:00:00+00:00\n",
      "INFO:root:Propagating portfolio at time 2017-05-23 00:00:00+00:00\n",
      "INFO:root:Getting trades at time 2017-05-24 00:00:00+00:00\n",
      "INFO:root:Propagating portfolio at time 2017-05-24 00:00:00+00:00\n",
      "INFO:root:Getting trades at time 2017-05-25 00:00:00+00:00\n",
      "INFO:root:Propagating portfolio at time 2017-05-25 00:00:00+00:00\n",
      "INFO:root:Getting trades at time 2017-05-26 00:00:00+00:00\n",
      "INFO:root:Propagating portfolio at time 2017-05-26 00:00:00+00:00\n",
      "INFO:root:Getting trades at time 2017-05-31 00:00:00+00:00\n",
      "INFO:root:Propagating portfolio at time 2017-05-31 00:00:00+00:00\n",
      "INFO:root:Getting trades at time 2017-06-01 00:00:00+00:00\n",
      "INFO:root:Propagating portfolio at time 2017-06-01 00:00:00+00:00\n",
      "INFO:root:Getting trades at time 2017-06-02 00:00:00+00:00\n",
      "INFO:root:Propagating portfolio at time 2017-06-02 00:00:00+00:00\n",
      "INFO:root:Getting trades at time 2017-06-05 00:00:00+00:00\n",
      "INFO:root:Propagating portfolio at time 2017-06-05 00:00:00+00:00\n",
      "INFO:root:Getting trades at time 2017-06-06 00:00:00+00:00\n",
      "INFO:root:Propagating portfolio at time 2017-06-06 00:00:00+00:00\n",
      "INFO:root:Getting trades at time 2017-06-07 00:00:00+00:00\n",
      "INFO:root:Propagating portfolio at time 2017-06-07 00:00:00+00:00\n",
      "INFO:root:Getting trades at time 2017-06-08 00:00:00+00:00\n",
      "INFO:root:Propagating portfolio at time 2017-06-08 00:00:00+00:00\n",
      "INFO:root:Getting trades at time 2017-06-09 00:00:00+00:00\n",
      "INFO:root:Propagating portfolio at time 2017-06-09 00:00:00+00:00\n",
      "INFO:root:Getting trades at time 2017-06-12 00:00:00+00:00\n",
      "INFO:root:Propagating portfolio at time 2017-06-12 00:00:00+00:00\n",
      "INFO:root:Getting trades at time 2017-06-13 00:00:00+00:00\n",
      "INFO:root:Propagating portfolio at time 2017-06-13 00:00:00+00:00\n",
      "INFO:root:Getting trades at time 2017-06-14 00:00:00+00:00\n",
      "INFO:root:Propagating portfolio at time 2017-06-14 00:00:00+00:00\n",
      "INFO:root:Getting trades at time 2017-06-15 00:00:00+00:00\n",
      "INFO:root:Propagating portfolio at time 2017-06-15 00:00:00+00:00\n",
      "INFO:root:Getting trades at time 2017-06-16 00:00:00+00:00\n",
      "INFO:root:Propagating portfolio at time 2017-06-16 00:00:00+00:00\n",
      "INFO:root:Getting trades at time 2017-06-19 00:00:00+00:00\n",
      "INFO:root:Propagating portfolio at time 2017-06-19 00:00:00+00:00\n",
      "INFO:root:Getting trades at time 2017-06-20 00:00:00+00:00\n",
      "INFO:root:Propagating portfolio at time 2017-06-20 00:00:00+00:00\n",
      "INFO:root:Getting trades at time 2017-06-21 00:00:00+00:00\n",
      "INFO:root:Propagating portfolio at time 2017-06-21 00:00:00+00:00\n",
      "INFO:root:Getting trades at time 2017-06-22 00:00:00+00:00\n",
      "INFO:root:Propagating portfolio at time 2017-06-22 00:00:00+00:00\n",
      "INFO:root:Getting trades at time 2017-06-23 00:00:00+00:00\n",
      "INFO:root:Propagating portfolio at time 2017-06-23 00:00:00+00:00\n",
      "INFO:root:Getting trades at time 2017-06-26 00:00:00+00:00\n",
      "INFO:root:Propagating portfolio at time 2017-06-26 00:00:00+00:00\n",
      "INFO:root:Getting trades at time 2017-06-27 00:00:00+00:00\n",
      "INFO:root:Propagating portfolio at time 2017-06-27 00:00:00+00:00\n",
      "INFO:root:Getting trades at time 2017-06-28 00:00:00+00:00\n",
      "INFO:root:Propagating portfolio at time 2017-06-28 00:00:00+00:00\n",
      "INFO:root:Getting trades at time 2017-06-29 00:00:00+00:00\n",
      "INFO:root:Propagating portfolio at time 2017-06-29 00:00:00+00:00\n",
      "INFO:root:Getting trades at time 2017-06-30 00:00:00+00:00\n",
      "INFO:root:Propagating portfolio at time 2017-06-30 00:00:00+00:00\n",
      "INFO:root:Getting trades at time 2017-07-03 00:00:00+00:00\n",
      "INFO:root:Propagating portfolio at time 2017-07-03 00:00:00+00:00\n",
      "INFO:root:Getting trades at time 2017-07-04 00:00:00+00:00\n",
      "INFO:root:Propagating portfolio at time 2017-07-04 00:00:00+00:00\n",
      "INFO:root:Getting trades at time 2017-07-05 00:00:00+00:00\n",
      "INFO:root:Propagating portfolio at time 2017-07-05 00:00:00+00:00\n",
      "INFO:root:Getting trades at time 2017-07-06 00:00:00+00:00\n",
      "INFO:root:Propagating portfolio at time 2017-07-06 00:00:00+00:00\n",
      "INFO:root:Getting trades at time 2017-07-07 00:00:00+00:00\n",
      "INFO:root:Propagating portfolio at time 2017-07-07 00:00:00+00:00\n",
      "INFO:root:Getting trades at time 2017-07-10 00:00:00+00:00\n",
      "INFO:root:Propagating portfolio at time 2017-07-10 00:00:00+00:00\n",
      "INFO:root:Getting trades at time 2017-07-11 00:00:00+00:00\n",
      "INFO:root:Propagating portfolio at time 2017-07-11 00:00:00+00:00\n",
      "INFO:root:Getting trades at time 2017-07-12 00:00:00+00:00\n",
      "INFO:root:Propagating portfolio at time 2017-07-12 00:00:00+00:00\n",
      "INFO:root:Getting trades at time 2017-07-13 00:00:00+00:00\n",
      "INFO:root:Propagating portfolio at time 2017-07-13 00:00:00+00:00\n",
      "INFO:root:Getting trades at time 2017-07-14 00:00:00+00:00\n",
      "INFO:root:Propagating portfolio at time 2017-07-14 00:00:00+00:00\n",
      "INFO:root:Getting trades at time 2017-07-17 00:00:00+00:00\n",
      "INFO:root:Propagating portfolio at time 2017-07-17 00:00:00+00:00\n",
      "INFO:root:Getting trades at time 2017-07-18 00:00:00+00:00\n",
      "INFO:root:Propagating portfolio at time 2017-07-18 00:00:00+00:00\n"
     ]
    },
    {
     "name": "stderr",
     "output_type": "stream",
     "text": [
      "INFO:root:Getting trades at time 2017-07-19 00:00:00+00:00\n",
      "INFO:root:Propagating portfolio at time 2017-07-19 00:00:00+00:00\n",
      "INFO:root:Getting trades at time 2017-07-20 00:00:00+00:00\n",
      "INFO:root:Propagating portfolio at time 2017-07-20 00:00:00+00:00\n",
      "INFO:root:Getting trades at time 2017-07-21 00:00:00+00:00\n",
      "INFO:root:Propagating portfolio at time 2017-07-21 00:00:00+00:00\n",
      "INFO:root:Getting trades at time 2017-07-24 00:00:00+00:00\n",
      "INFO:root:Propagating portfolio at time 2017-07-24 00:00:00+00:00\n",
      "INFO:root:Getting trades at time 2017-07-25 00:00:00+00:00\n",
      "INFO:root:Propagating portfolio at time 2017-07-25 00:00:00+00:00\n",
      "INFO:root:Getting trades at time 2017-07-26 00:00:00+00:00\n",
      "INFO:root:Propagating portfolio at time 2017-07-26 00:00:00+00:00\n",
      "INFO:root:Getting trades at time 2017-07-27 00:00:00+00:00\n",
      "INFO:root:Propagating portfolio at time 2017-07-27 00:00:00+00:00\n",
      "INFO:root:Getting trades at time 2017-07-28 00:00:00+00:00\n",
      "INFO:root:Propagating portfolio at time 2017-07-28 00:00:00+00:00\n",
      "INFO:root:Getting trades at time 2017-07-31 00:00:00+00:00\n",
      "INFO:root:Propagating portfolio at time 2017-07-31 00:00:00+00:00\n",
      "INFO:root:Getting trades at time 2017-08-01 00:00:00+00:00\n",
      "INFO:root:Propagating portfolio at time 2017-08-01 00:00:00+00:00\n",
      "INFO:root:Getting trades at time 2017-08-02 00:00:00+00:00\n",
      "INFO:root:Propagating portfolio at time 2017-08-02 00:00:00+00:00\n",
      "INFO:root:Getting trades at time 2017-08-03 00:00:00+00:00\n",
      "INFO:root:Propagating portfolio at time 2017-08-03 00:00:00+00:00\n",
      "INFO:root:Getting trades at time 2017-08-04 00:00:00+00:00\n",
      "INFO:root:Propagating portfolio at time 2017-08-04 00:00:00+00:00\n",
      "INFO:root:Getting trades at time 2017-08-07 00:00:00+00:00\n",
      "INFO:root:Propagating portfolio at time 2017-08-07 00:00:00+00:00\n",
      "INFO:root:Getting trades at time 2017-08-08 00:00:00+00:00\n",
      "INFO:root:Propagating portfolio at time 2017-08-08 00:00:00+00:00\n",
      "INFO:root:Getting trades at time 2017-08-09 00:00:00+00:00\n",
      "INFO:root:Propagating portfolio at time 2017-08-09 00:00:00+00:00\n",
      "INFO:root:Getting trades at time 2017-08-10 00:00:00+00:00\n",
      "INFO:root:Propagating portfolio at time 2017-08-10 00:00:00+00:00\n",
      "INFO:root:Getting trades at time 2017-08-11 00:00:00+00:00\n",
      "INFO:root:Propagating portfolio at time 2017-08-11 00:00:00+00:00\n",
      "INFO:root:Getting trades at time 2017-08-14 00:00:00+00:00\n",
      "INFO:root:Propagating portfolio at time 2017-08-14 00:00:00+00:00\n",
      "INFO:root:Getting trades at time 2017-08-15 00:00:00+00:00\n",
      "INFO:root:Propagating portfolio at time 2017-08-15 00:00:00+00:00\n",
      "INFO:root:Getting trades at time 2017-08-16 00:00:00+00:00\n",
      "INFO:root:Propagating portfolio at time 2017-08-16 00:00:00+00:00\n",
      "INFO:root:Getting trades at time 2017-08-17 00:00:00+00:00\n",
      "INFO:root:Propagating portfolio at time 2017-08-17 00:00:00+00:00\n",
      "INFO:root:Getting trades at time 2017-08-18 00:00:00+00:00\n",
      "INFO:root:Propagating portfolio at time 2017-08-18 00:00:00+00:00\n",
      "INFO:root:Getting trades at time 2017-08-21 00:00:00+00:00\n",
      "INFO:root:Propagating portfolio at time 2017-08-21 00:00:00+00:00\n",
      "INFO:root:Getting trades at time 2017-08-22 00:00:00+00:00\n",
      "INFO:root:Propagating portfolio at time 2017-08-22 00:00:00+00:00\n",
      "INFO:root:Getting trades at time 2017-08-23 00:00:00+00:00\n",
      "INFO:root:Propagating portfolio at time 2017-08-23 00:00:00+00:00\n",
      "INFO:root:Getting trades at time 2017-08-24 00:00:00+00:00\n",
      "INFO:root:Propagating portfolio at time 2017-08-24 00:00:00+00:00\n",
      "INFO:root:Getting trades at time 2017-08-25 00:00:00+00:00\n",
      "INFO:root:Propagating portfolio at time 2017-08-25 00:00:00+00:00\n",
      "INFO:root:Getting trades at time 2017-08-28 00:00:00+00:00\n",
      "INFO:root:Propagating portfolio at time 2017-08-28 00:00:00+00:00\n",
      "INFO:root:Getting trades at time 2017-08-29 00:00:00+00:00\n",
      "INFO:root:Propagating portfolio at time 2017-08-29 00:00:00+00:00\n",
      "INFO:root:Getting trades at time 2017-08-30 00:00:00+00:00\n",
      "INFO:root:Propagating portfolio at time 2017-08-30 00:00:00+00:00\n",
      "INFO:root:Getting trades at time 2017-08-31 00:00:00+00:00\n",
      "INFO:root:Propagating portfolio at time 2017-08-31 00:00:00+00:00\n",
      "INFO:root:Getting trades at time 2017-09-01 00:00:00+00:00\n",
      "INFO:root:Propagating portfolio at time 2017-09-01 00:00:00+00:00\n",
      "INFO:root:Getting trades at time 2017-09-04 00:00:00+00:00\n",
      "INFO:root:Propagating portfolio at time 2017-09-04 00:00:00+00:00\n",
      "INFO:root:Getting trades at time 2017-09-05 00:00:00+00:00\n",
      "INFO:root:Propagating portfolio at time 2017-09-05 00:00:00+00:00\n",
      "INFO:root:Getting trades at time 2017-09-06 00:00:00+00:00\n",
      "INFO:root:Propagating portfolio at time 2017-09-06 00:00:00+00:00\n",
      "INFO:root:Getting trades at time 2017-09-07 00:00:00+00:00\n",
      "INFO:root:Propagating portfolio at time 2017-09-07 00:00:00+00:00\n",
      "INFO:root:Getting trades at time 2017-09-08 00:00:00+00:00\n",
      "INFO:root:Propagating portfolio at time 2017-09-08 00:00:00+00:00\n",
      "INFO:root:Getting trades at time 2017-09-11 00:00:00+00:00\n",
      "INFO:root:Propagating portfolio at time 2017-09-11 00:00:00+00:00\n",
      "INFO:root:Getting trades at time 2017-09-12 00:00:00+00:00\n",
      "INFO:root:Propagating portfolio at time 2017-09-12 00:00:00+00:00\n",
      "INFO:root:Getting trades at time 2017-09-13 00:00:00+00:00\n",
      "INFO:root:Propagating portfolio at time 2017-09-13 00:00:00+00:00\n",
      "INFO:root:Getting trades at time 2017-09-14 00:00:00+00:00\n",
      "INFO:root:Propagating portfolio at time 2017-09-14 00:00:00+00:00\n",
      "INFO:root:Getting trades at time 2017-09-15 00:00:00+00:00\n",
      "INFO:root:Propagating portfolio at time 2017-09-15 00:00:00+00:00\n",
      "INFO:root:Getting trades at time 2017-09-18 00:00:00+00:00\n",
      "INFO:root:Propagating portfolio at time 2017-09-18 00:00:00+00:00\n",
      "INFO:root:Getting trades at time 2017-09-19 00:00:00+00:00\n",
      "INFO:root:Propagating portfolio at time 2017-09-19 00:00:00+00:00\n",
      "INFO:root:Getting trades at time 2017-09-20 00:00:00+00:00\n",
      "INFO:root:Propagating portfolio at time 2017-09-20 00:00:00+00:00\n",
      "INFO:root:Getting trades at time 2017-09-21 00:00:00+00:00\n",
      "INFO:root:Propagating portfolio at time 2017-09-21 00:00:00+00:00\n",
      "INFO:root:Getting trades at time 2017-09-22 00:00:00+00:00\n",
      "INFO:root:Propagating portfolio at time 2017-09-22 00:00:00+00:00\n",
      "INFO:root:Getting trades at time 2017-09-25 00:00:00+00:00\n",
      "INFO:root:Propagating portfolio at time 2017-09-25 00:00:00+00:00\n",
      "INFO:root:Getting trades at time 2017-09-26 00:00:00+00:00\n",
      "INFO:root:Propagating portfolio at time 2017-09-26 00:00:00+00:00\n",
      "INFO:root:Getting trades at time 2017-09-27 00:00:00+00:00\n",
      "INFO:root:Propagating portfolio at time 2017-09-27 00:00:00+00:00\n",
      "INFO:root:Getting trades at time 2017-09-28 00:00:00+00:00\n",
      "INFO:root:Propagating portfolio at time 2017-09-28 00:00:00+00:00\n",
      "INFO:root:Getting trades at time 2017-09-29 00:00:00+00:00\n",
      "INFO:root:Propagating portfolio at time 2017-09-29 00:00:00+00:00\n",
      "INFO:root:Getting trades at time 2017-10-09 00:00:00+00:00\n",
      "INFO:root:Propagating portfolio at time 2017-10-09 00:00:00+00:00\n",
      "INFO:root:Getting trades at time 2017-10-10 00:00:00+00:00\n",
      "INFO:root:Propagating portfolio at time 2017-10-10 00:00:00+00:00\n",
      "INFO:root:Getting trades at time 2017-10-11 00:00:00+00:00\n",
      "INFO:root:Propagating portfolio at time 2017-10-11 00:00:00+00:00\n",
      "INFO:root:Getting trades at time 2017-10-12 00:00:00+00:00\n",
      "INFO:root:Propagating portfolio at time 2017-10-12 00:00:00+00:00\n",
      "INFO:root:Getting trades at time 2017-10-13 00:00:00+00:00\n",
      "INFO:root:Propagating portfolio at time 2017-10-13 00:00:00+00:00\n",
      "INFO:root:Getting trades at time 2017-10-16 00:00:00+00:00\n",
      "INFO:root:Propagating portfolio at time 2017-10-16 00:00:00+00:00\n",
      "INFO:root:Getting trades at time 2017-10-17 00:00:00+00:00\n",
      "INFO:root:Propagating portfolio at time 2017-10-17 00:00:00+00:00\n",
      "INFO:root:Getting trades at time 2017-10-18 00:00:00+00:00\n",
      "INFO:root:Propagating portfolio at time 2017-10-18 00:00:00+00:00\n",
      "INFO:root:Getting trades at time 2017-10-19 00:00:00+00:00\n",
      "INFO:root:Propagating portfolio at time 2017-10-19 00:00:00+00:00\n",
      "INFO:root:Getting trades at time 2017-10-20 00:00:00+00:00\n",
      "INFO:root:Propagating portfolio at time 2017-10-20 00:00:00+00:00\n",
      "INFO:root:Getting trades at time 2017-10-23 00:00:00+00:00\n",
      "INFO:root:Propagating portfolio at time 2017-10-23 00:00:00+00:00\n",
      "INFO:root:Getting trades at time 2017-10-24 00:00:00+00:00\n",
      "INFO:root:Propagating portfolio at time 2017-10-24 00:00:00+00:00\n",
      "INFO:root:Getting trades at time 2017-10-25 00:00:00+00:00\n",
      "INFO:root:Propagating portfolio at time 2017-10-25 00:00:00+00:00\n"
     ]
    },
    {
     "name": "stderr",
     "output_type": "stream",
     "text": [
      "INFO:root:Getting trades at time 2017-10-26 00:00:00+00:00\n",
      "INFO:root:Propagating portfolio at time 2017-10-26 00:00:00+00:00\n",
      "INFO:root:Getting trades at time 2017-10-27 00:00:00+00:00\n",
      "INFO:root:Propagating portfolio at time 2017-10-27 00:00:00+00:00\n",
      "INFO:root:Getting trades at time 2017-10-30 00:00:00+00:00\n",
      "INFO:root:Propagating portfolio at time 2017-10-30 00:00:00+00:00\n",
      "INFO:root:Getting trades at time 2017-10-31 00:00:00+00:00\n",
      "INFO:root:Propagating portfolio at time 2017-10-31 00:00:00+00:00\n",
      "INFO:root:Getting trades at time 2017-11-01 00:00:00+00:00\n",
      "INFO:root:Propagating portfolio at time 2017-11-01 00:00:00+00:00\n",
      "INFO:root:Getting trades at time 2017-11-02 00:00:00+00:00\n",
      "INFO:root:Propagating portfolio at time 2017-11-02 00:00:00+00:00\n",
      "INFO:root:Getting trades at time 2017-11-03 00:00:00+00:00\n",
      "INFO:root:Propagating portfolio at time 2017-11-03 00:00:00+00:00\n",
      "INFO:root:Getting trades at time 2017-11-06 00:00:00+00:00\n",
      "INFO:root:Propagating portfolio at time 2017-11-06 00:00:00+00:00\n",
      "INFO:root:Getting trades at time 2017-11-07 00:00:00+00:00\n",
      "INFO:root:Propagating portfolio at time 2017-11-07 00:00:00+00:00\n",
      "INFO:root:Getting trades at time 2017-11-08 00:00:00+00:00\n",
      "INFO:root:Propagating portfolio at time 2017-11-08 00:00:00+00:00\n",
      "INFO:root:Getting trades at time 2017-11-09 00:00:00+00:00\n",
      "INFO:root:Propagating portfolio at time 2017-11-09 00:00:00+00:00\n",
      "INFO:root:Getting trades at time 2017-11-10 00:00:00+00:00\n",
      "INFO:root:Propagating portfolio at time 2017-11-10 00:00:00+00:00\n",
      "INFO:root:Getting trades at time 2017-11-13 00:00:00+00:00\n",
      "INFO:root:Propagating portfolio at time 2017-11-13 00:00:00+00:00\n",
      "INFO:root:Getting trades at time 2017-11-14 00:00:00+00:00\n",
      "INFO:root:Propagating portfolio at time 2017-11-14 00:00:00+00:00\n",
      "INFO:root:Getting trades at time 2017-11-15 00:00:00+00:00\n",
      "INFO:root:Propagating portfolio at time 2017-11-15 00:00:00+00:00\n",
      "INFO:root:Getting trades at time 2017-11-16 00:00:00+00:00\n",
      "INFO:root:Propagating portfolio at time 2017-11-16 00:00:00+00:00\n",
      "INFO:root:Getting trades at time 2017-11-17 00:00:00+00:00\n",
      "INFO:root:Propagating portfolio at time 2017-11-17 00:00:00+00:00\n",
      "INFO:root:Getting trades at time 2017-11-20 00:00:00+00:00\n",
      "INFO:root:Propagating portfolio at time 2017-11-20 00:00:00+00:00\n",
      "INFO:root:Getting trades at time 2017-11-21 00:00:00+00:00\n",
      "INFO:root:Propagating portfolio at time 2017-11-21 00:00:00+00:00\n",
      "INFO:root:Getting trades at time 2017-11-22 00:00:00+00:00\n",
      "INFO:root:Propagating portfolio at time 2017-11-22 00:00:00+00:00\n",
      "INFO:root:Getting trades at time 2017-11-23 00:00:00+00:00\n",
      "INFO:root:Propagating portfolio at time 2017-11-23 00:00:00+00:00\n",
      "INFO:root:Getting trades at time 2017-11-24 00:00:00+00:00\n",
      "INFO:root:Propagating portfolio at time 2017-11-24 00:00:00+00:00\n",
      "INFO:root:Getting trades at time 2017-11-27 00:00:00+00:00\n",
      "INFO:root:Propagating portfolio at time 2017-11-27 00:00:00+00:00\n",
      "INFO:root:Getting trades at time 2017-11-28 00:00:00+00:00\n",
      "INFO:root:Propagating portfolio at time 2017-11-28 00:00:00+00:00\n",
      "INFO:root:Getting trades at time 2017-11-29 00:00:00+00:00\n",
      "INFO:root:Propagating portfolio at time 2017-11-29 00:00:00+00:00\n",
      "INFO:root:Getting trades at time 2017-11-30 00:00:00+00:00\n",
      "INFO:root:Propagating portfolio at time 2017-11-30 00:00:00+00:00\n",
      "INFO:root:Getting trades at time 2017-12-01 00:00:00+00:00\n",
      "INFO:root:Propagating portfolio at time 2017-12-01 00:00:00+00:00\n",
      "INFO:root:Getting trades at time 2017-12-04 00:00:00+00:00\n",
      "INFO:root:Propagating portfolio at time 2017-12-04 00:00:00+00:00\n",
      "INFO:root:Getting trades at time 2017-12-05 00:00:00+00:00\n",
      "INFO:root:Propagating portfolio at time 2017-12-05 00:00:00+00:00\n",
      "INFO:root:Getting trades at time 2017-12-06 00:00:00+00:00\n",
      "INFO:root:Propagating portfolio at time 2017-12-06 00:00:00+00:00\n",
      "INFO:root:Getting trades at time 2017-12-07 00:00:00+00:00\n",
      "INFO:root:Propagating portfolio at time 2017-12-07 00:00:00+00:00\n",
      "INFO:root:Getting trades at time 2017-12-08 00:00:00+00:00\n",
      "INFO:root:Propagating portfolio at time 2017-12-08 00:00:00+00:00\n",
      "INFO:root:Getting trades at time 2017-12-11 00:00:00+00:00\n",
      "INFO:root:Propagating portfolio at time 2017-12-11 00:00:00+00:00\n",
      "INFO:root:Getting trades at time 2017-12-12 00:00:00+00:00\n",
      "INFO:root:Propagating portfolio at time 2017-12-12 00:00:00+00:00\n",
      "INFO:root:Getting trades at time 2017-12-13 00:00:00+00:00\n",
      "INFO:root:Propagating portfolio at time 2017-12-13 00:00:00+00:00\n",
      "INFO:root:Getting trades at time 2017-12-14 00:00:00+00:00\n",
      "INFO:root:Propagating portfolio at time 2017-12-14 00:00:00+00:00\n",
      "INFO:root:Getting trades at time 2017-12-15 00:00:00+00:00\n",
      "INFO:root:Propagating portfolio at time 2017-12-15 00:00:00+00:00\n",
      "INFO:root:Getting trades at time 2017-12-18 00:00:00+00:00\n",
      "INFO:root:Propagating portfolio at time 2017-12-18 00:00:00+00:00\n",
      "INFO:root:Getting trades at time 2017-12-19 00:00:00+00:00\n",
      "INFO:root:Propagating portfolio at time 2017-12-19 00:00:00+00:00\n",
      "INFO:root:Getting trades at time 2017-12-20 00:00:00+00:00\n",
      "INFO:root:Propagating portfolio at time 2017-12-20 00:00:00+00:00\n",
      "INFO:root:Getting trades at time 2017-12-21 00:00:00+00:00\n",
      "INFO:root:Propagating portfolio at time 2017-12-21 00:00:00+00:00\n",
      "INFO:root:Getting trades at time 2017-12-22 00:00:00+00:00\n",
      "INFO:root:Propagating portfolio at time 2017-12-22 00:00:00+00:00\n",
      "INFO:root:Getting trades at time 2017-12-25 00:00:00+00:00\n",
      "INFO:root:Propagating portfolio at time 2017-12-25 00:00:00+00:00\n",
      "INFO:root:Getting trades at time 2017-12-26 00:00:00+00:00\n",
      "INFO:root:Propagating portfolio at time 2017-12-26 00:00:00+00:00\n",
      "INFO:root:Getting trades at time 2017-12-27 00:00:00+00:00\n",
      "INFO:root:Propagating portfolio at time 2017-12-27 00:00:00+00:00\n",
      "INFO:root:Getting trades at time 2017-12-28 00:00:00+00:00\n",
      "INFO:root:Propagating portfolio at time 2017-12-28 00:00:00+00:00\n",
      "INFO:root:Getting trades at time 2017-12-29 00:00:00+00:00\n",
      "INFO:root:Propagating portfolio at time 2017-12-29 00:00:00+00:00\n",
      "INFO:root:Getting trades at time 2018-01-02 00:00:00+00:00\n",
      "INFO:root:Propagating portfolio at time 2018-01-02 00:00:00+00:00\n",
      "INFO:root:Getting trades at time 2018-01-03 00:00:00+00:00\n",
      "INFO:root:Propagating portfolio at time 2018-01-03 00:00:00+00:00\n",
      "INFO:root:Getting trades at time 2018-01-04 00:00:00+00:00\n",
      "INFO:root:Propagating portfolio at time 2018-01-04 00:00:00+00:00\n",
      "INFO:root:Getting trades at time 2018-01-05 00:00:00+00:00\n",
      "INFO:root:Propagating portfolio at time 2018-01-05 00:00:00+00:00\n",
      "INFO:root:Getting trades at time 2018-01-08 00:00:00+00:00\n",
      "INFO:root:Propagating portfolio at time 2018-01-08 00:00:00+00:00\n",
      "INFO:root:Getting trades at time 2018-01-09 00:00:00+00:00\n",
      "INFO:root:Propagating portfolio at time 2018-01-09 00:00:00+00:00\n",
      "INFO:root:Getting trades at time 2018-01-10 00:00:00+00:00\n",
      "INFO:root:Propagating portfolio at time 2018-01-10 00:00:00+00:00\n",
      "INFO:root:Getting trades at time 2018-01-11 00:00:00+00:00\n",
      "INFO:root:Propagating portfolio at time 2018-01-11 00:00:00+00:00\n",
      "INFO:root:Getting trades at time 2018-01-12 00:00:00+00:00\n",
      "INFO:root:Propagating portfolio at time 2018-01-12 00:00:00+00:00\n",
      "INFO:root:Getting trades at time 2018-01-15 00:00:00+00:00\n",
      "INFO:root:Propagating portfolio at time 2018-01-15 00:00:00+00:00\n",
      "INFO:root:Getting trades at time 2018-01-16 00:00:00+00:00\n",
      "INFO:root:Propagating portfolio at time 2018-01-16 00:00:00+00:00\n",
      "INFO:root:Getting trades at time 2018-01-17 00:00:00+00:00\n",
      "INFO:root:Propagating portfolio at time 2018-01-17 00:00:00+00:00\n",
      "INFO:root:Getting trades at time 2018-01-18 00:00:00+00:00\n",
      "INFO:root:Propagating portfolio at time 2018-01-18 00:00:00+00:00\n",
      "INFO:root:Getting trades at time 2018-01-19 00:00:00+00:00\n",
      "INFO:root:Propagating portfolio at time 2018-01-19 00:00:00+00:00\n",
      "INFO:root:Getting trades at time 2018-01-22 00:00:00+00:00\n",
      "INFO:root:Propagating portfolio at time 2018-01-22 00:00:00+00:00\n",
      "INFO:root:Getting trades at time 2018-01-23 00:00:00+00:00\n",
      "INFO:root:Propagating portfolio at time 2018-01-23 00:00:00+00:00\n",
      "INFO:root:Getting trades at time 2018-01-24 00:00:00+00:00\n",
      "INFO:root:Propagating portfolio at time 2018-01-24 00:00:00+00:00\n",
      "INFO:root:Getting trades at time 2018-01-25 00:00:00+00:00\n",
      "INFO:root:Propagating portfolio at time 2018-01-25 00:00:00+00:00\n",
      "INFO:root:Getting trades at time 2018-01-26 00:00:00+00:00\n",
      "INFO:root:Propagating portfolio at time 2018-01-26 00:00:00+00:00\n"
     ]
    },
    {
     "name": "stderr",
     "output_type": "stream",
     "text": [
      "INFO:root:Getting trades at time 2018-01-29 00:00:00+00:00\n",
      "INFO:root:Propagating portfolio at time 2018-01-29 00:00:00+00:00\n",
      "INFO:root:Getting trades at time 2018-01-30 00:00:00+00:00\n",
      "INFO:root:Propagating portfolio at time 2018-01-30 00:00:00+00:00\n",
      "INFO:root:Getting trades at time 2018-01-31 00:00:00+00:00\n",
      "INFO:root:Propagating portfolio at time 2018-01-31 00:00:00+00:00\n",
      "INFO:root:Getting trades at time 2018-02-01 00:00:00+00:00\n",
      "INFO:root:Propagating portfolio at time 2018-02-01 00:00:00+00:00\n",
      "INFO:root:Getting trades at time 2018-02-02 00:00:00+00:00\n",
      "INFO:root:Propagating portfolio at time 2018-02-02 00:00:00+00:00\n",
      "INFO:root:Getting trades at time 2018-02-05 00:00:00+00:00\n",
      "INFO:root:Propagating portfolio at time 2018-02-05 00:00:00+00:00\n",
      "INFO:root:Getting trades at time 2018-02-06 00:00:00+00:00\n",
      "INFO:root:Propagating portfolio at time 2018-02-06 00:00:00+00:00\n",
      "INFO:root:Getting trades at time 2018-02-07 00:00:00+00:00\n",
      "INFO:root:Propagating portfolio at time 2018-02-07 00:00:00+00:00\n",
      "INFO:root:Getting trades at time 2018-02-08 00:00:00+00:00\n",
      "INFO:root:Propagating portfolio at time 2018-02-08 00:00:00+00:00\n",
      "INFO:root:Getting trades at time 2018-02-09 00:00:00+00:00\n",
      "INFO:root:Propagating portfolio at time 2018-02-09 00:00:00+00:00\n",
      "INFO:root:Getting trades at time 2018-02-12 00:00:00+00:00\n",
      "INFO:root:Propagating portfolio at time 2018-02-12 00:00:00+00:00\n",
      "INFO:root:Getting trades at time 2018-02-13 00:00:00+00:00\n",
      "INFO:root:Propagating portfolio at time 2018-02-13 00:00:00+00:00\n",
      "INFO:root:Getting trades at time 2018-02-14 00:00:00+00:00\n",
      "INFO:root:Propagating portfolio at time 2018-02-14 00:00:00+00:00\n",
      "INFO:root:Getting trades at time 2018-02-22 00:00:00+00:00\n",
      "INFO:root:Propagating portfolio at time 2018-02-22 00:00:00+00:00\n",
      "INFO:root:Getting trades at time 2018-02-23 00:00:00+00:00\n",
      "INFO:root:Propagating portfolio at time 2018-02-23 00:00:00+00:00\n",
      "INFO:root:Getting trades at time 2018-02-26 00:00:00+00:00\n",
      "INFO:root:Propagating portfolio at time 2018-02-26 00:00:00+00:00\n",
      "INFO:root:Getting trades at time 2018-02-27 00:00:00+00:00\n",
      "INFO:root:Propagating portfolio at time 2018-02-27 00:00:00+00:00\n",
      "INFO:root:Getting trades at time 2018-02-28 00:00:00+00:00\n",
      "INFO:root:Propagating portfolio at time 2018-02-28 00:00:00+00:00\n",
      "INFO:root:Getting trades at time 2018-03-01 00:00:00+00:00\n",
      "INFO:root:Propagating portfolio at time 2018-03-01 00:00:00+00:00\n",
      "INFO:root:Getting trades at time 2018-03-02 00:00:00+00:00\n",
      "INFO:root:Propagating portfolio at time 2018-03-02 00:00:00+00:00\n",
      "INFO:root:Getting trades at time 2018-03-05 00:00:00+00:00\n",
      "INFO:root:Propagating portfolio at time 2018-03-05 00:00:00+00:00\n",
      "INFO:root:Getting trades at time 2018-03-06 00:00:00+00:00\n",
      "INFO:root:Propagating portfolio at time 2018-03-06 00:00:00+00:00\n",
      "INFO:root:Getting trades at time 2018-03-07 00:00:00+00:00\n",
      "INFO:root:Propagating portfolio at time 2018-03-07 00:00:00+00:00\n",
      "INFO:root:Getting trades at time 2018-03-08 00:00:00+00:00\n",
      "INFO:root:Propagating portfolio at time 2018-03-08 00:00:00+00:00\n",
      "INFO:root:Getting trades at time 2018-03-09 00:00:00+00:00\n",
      "INFO:root:Propagating portfolio at time 2018-03-09 00:00:00+00:00\n",
      "INFO:root:Getting trades at time 2018-03-12 00:00:00+00:00\n",
      "INFO:root:Propagating portfolio at time 2018-03-12 00:00:00+00:00\n",
      "INFO:root:Getting trades at time 2018-03-13 00:00:00+00:00\n",
      "INFO:root:Propagating portfolio at time 2018-03-13 00:00:00+00:00\n",
      "INFO:root:Getting trades at time 2018-03-14 00:00:00+00:00\n",
      "INFO:root:Propagating portfolio at time 2018-03-14 00:00:00+00:00\n",
      "INFO:root:Getting trades at time 2018-03-15 00:00:00+00:00\n",
      "INFO:root:Propagating portfolio at time 2018-03-15 00:00:00+00:00\n",
      "INFO:root:Getting trades at time 2018-03-16 00:00:00+00:00\n",
      "INFO:root:Propagating portfolio at time 2018-03-16 00:00:00+00:00\n",
      "INFO:root:Getting trades at time 2018-03-19 00:00:00+00:00\n",
      "INFO:root:Propagating portfolio at time 2018-03-19 00:00:00+00:00\n",
      "INFO:root:Getting trades at time 2018-03-20 00:00:00+00:00\n",
      "INFO:root:Propagating portfolio at time 2018-03-20 00:00:00+00:00\n",
      "INFO:root:Getting trades at time 2018-03-21 00:00:00+00:00\n",
      "INFO:root:Propagating portfolio at time 2018-03-21 00:00:00+00:00\n",
      "INFO:root:Getting trades at time 2018-03-22 00:00:00+00:00\n",
      "INFO:root:Propagating portfolio at time 2018-03-22 00:00:00+00:00\n",
      "INFO:root:Getting trades at time 2018-03-23 00:00:00+00:00\n",
      "INFO:root:Propagating portfolio at time 2018-03-23 00:00:00+00:00\n",
      "INFO:root:Getting trades at time 2018-03-26 00:00:00+00:00\n",
      "INFO:root:Propagating portfolio at time 2018-03-26 00:00:00+00:00\n",
      "INFO:root:Getting trades at time 2018-03-27 00:00:00+00:00\n",
      "INFO:root:Propagating portfolio at time 2018-03-27 00:00:00+00:00\n",
      "INFO:root:Getting trades at time 2018-03-28 00:00:00+00:00\n",
      "INFO:root:Propagating portfolio at time 2018-03-28 00:00:00+00:00\n",
      "INFO:root:Getting trades at time 2018-03-29 00:00:00+00:00\n",
      "INFO:root:Propagating portfolio at time 2018-03-29 00:00:00+00:00\n",
      "INFO:root:Getting trades at time 2018-03-30 00:00:00+00:00\n",
      "INFO:root:Propagating portfolio at time 2018-03-30 00:00:00+00:00\n",
      "INFO:root:Getting trades at time 2018-04-02 00:00:00+00:00\n",
      "INFO:root:Propagating portfolio at time 2018-04-02 00:00:00+00:00\n",
      "INFO:root:Getting trades at time 2018-04-03 00:00:00+00:00\n",
      "INFO:root:Propagating portfolio at time 2018-04-03 00:00:00+00:00\n",
      "INFO:root:Getting trades at time 2018-04-04 00:00:00+00:00\n",
      "INFO:root:Propagating portfolio at time 2018-04-04 00:00:00+00:00\n",
      "INFO:root:Getting trades at time 2018-04-09 00:00:00+00:00\n",
      "INFO:root:Propagating portfolio at time 2018-04-09 00:00:00+00:00\n",
      "INFO:root:Getting trades at time 2018-04-10 00:00:00+00:00\n",
      "INFO:root:Propagating portfolio at time 2018-04-10 00:00:00+00:00\n",
      "INFO:root:Getting trades at time 2018-04-11 00:00:00+00:00\n",
      "INFO:root:Propagating portfolio at time 2018-04-11 00:00:00+00:00\n",
      "INFO:root:Getting trades at time 2018-04-12 00:00:00+00:00\n",
      "INFO:root:Propagating portfolio at time 2018-04-12 00:00:00+00:00\n",
      "INFO:root:Getting trades at time 2018-04-13 00:00:00+00:00\n",
      "INFO:root:Propagating portfolio at time 2018-04-13 00:00:00+00:00\n",
      "INFO:root:Getting trades at time 2018-04-16 00:00:00+00:00\n",
      "INFO:root:Propagating portfolio at time 2018-04-16 00:00:00+00:00\n",
      "INFO:root:Getting trades at time 2018-04-17 00:00:00+00:00\n",
      "INFO:root:Propagating portfolio at time 2018-04-17 00:00:00+00:00\n",
      "INFO:root:Getting trades at time 2018-04-18 00:00:00+00:00\n",
      "INFO:root:Propagating portfolio at time 2018-04-18 00:00:00+00:00\n",
      "INFO:root:Getting trades at time 2018-04-19 00:00:00+00:00\n",
      "INFO:root:Propagating portfolio at time 2018-04-19 00:00:00+00:00\n",
      "INFO:root:Getting trades at time 2018-04-20 00:00:00+00:00\n",
      "INFO:root:Propagating portfolio at time 2018-04-20 00:00:00+00:00\n",
      "INFO:root:Getting trades at time 2018-04-23 00:00:00+00:00\n",
      "INFO:root:Propagating portfolio at time 2018-04-23 00:00:00+00:00\n",
      "INFO:root:Getting trades at time 2018-04-24 00:00:00+00:00\n",
      "INFO:root:Propagating portfolio at time 2018-04-24 00:00:00+00:00\n",
      "INFO:root:Getting trades at time 2018-04-25 00:00:00+00:00\n",
      "INFO:root:Propagating portfolio at time 2018-04-25 00:00:00+00:00\n",
      "INFO:root:Getting trades at time 2018-04-26 00:00:00+00:00\n",
      "INFO:root:Propagating portfolio at time 2018-04-26 00:00:00+00:00\n",
      "INFO:root:Getting trades at time 2018-04-27 00:00:00+00:00\n",
      "INFO:root:Propagating portfolio at time 2018-04-27 00:00:00+00:00\n",
      "INFO:root:Getting trades at time 2018-05-02 00:00:00+00:00\n",
      "INFO:root:Propagating portfolio at time 2018-05-02 00:00:00+00:00\n",
      "INFO:root:Getting trades at time 2018-05-03 00:00:00+00:00\n",
      "INFO:root:Propagating portfolio at time 2018-05-03 00:00:00+00:00\n",
      "INFO:root:Getting trades at time 2018-05-04 00:00:00+00:00\n",
      "INFO:root:Propagating portfolio at time 2018-05-04 00:00:00+00:00\n",
      "INFO:root:Getting trades at time 2018-05-07 00:00:00+00:00\n",
      "INFO:root:Propagating portfolio at time 2018-05-07 00:00:00+00:00\n",
      "INFO:root:Getting trades at time 2018-05-08 00:00:00+00:00\n",
      "INFO:root:Propagating portfolio at time 2018-05-08 00:00:00+00:00\n",
      "INFO:root:Getting trades at time 2018-05-09 00:00:00+00:00\n",
      "INFO:root:Propagating portfolio at time 2018-05-09 00:00:00+00:00\n",
      "INFO:root:Getting trades at time 2018-05-10 00:00:00+00:00\n",
      "INFO:root:Propagating portfolio at time 2018-05-10 00:00:00+00:00\n",
      "INFO:root:Getting trades at time 2018-05-11 00:00:00+00:00\n",
      "INFO:root:Propagating portfolio at time 2018-05-11 00:00:00+00:00\n"
     ]
    },
    {
     "name": "stderr",
     "output_type": "stream",
     "text": [
      "INFO:root:Getting trades at time 2018-05-14 00:00:00+00:00\n",
      "INFO:root:Propagating portfolio at time 2018-05-14 00:00:00+00:00\n",
      "INFO:root:Getting trades at time 2018-05-15 00:00:00+00:00\n",
      "INFO:root:Propagating portfolio at time 2018-05-15 00:00:00+00:00\n",
      "INFO:root:Getting trades at time 2018-05-16 00:00:00+00:00\n",
      "INFO:root:Propagating portfolio at time 2018-05-16 00:00:00+00:00\n",
      "INFO:root:Getting trades at time 2018-05-17 00:00:00+00:00\n",
      "INFO:root:Propagating portfolio at time 2018-05-17 00:00:00+00:00\n",
      "INFO:root:Getting trades at time 2018-05-18 00:00:00+00:00\n",
      "INFO:root:Propagating portfolio at time 2018-05-18 00:00:00+00:00\n",
      "INFO:root:Getting trades at time 2018-05-21 00:00:00+00:00\n",
      "INFO:root:Propagating portfolio at time 2018-05-21 00:00:00+00:00\n",
      "INFO:root:Getting trades at time 2018-05-22 00:00:00+00:00\n",
      "INFO:root:Propagating portfolio at time 2018-05-22 00:00:00+00:00\n",
      "INFO:root:Getting trades at time 2018-05-23 00:00:00+00:00\n",
      "INFO:root:Propagating portfolio at time 2018-05-23 00:00:00+00:00\n",
      "INFO:root:Getting trades at time 2018-05-24 00:00:00+00:00\n",
      "INFO:root:Propagating portfolio at time 2018-05-24 00:00:00+00:00\n",
      "INFO:root:Getting trades at time 2018-05-25 00:00:00+00:00\n",
      "INFO:root:Propagating portfolio at time 2018-05-25 00:00:00+00:00\n",
      "INFO:root:Backtest ended, from 2017-01-03 00:00:00+00:00 to 2018-05-25 00:00:00+00:00\n"
     ]
    }
   ],
   "source": [
    "market_sim = cp.MarketSimulator(\n",
    "    rets, [tcost_model, hcost_model], cash_key='cash')\n",
    "init_portfolio = pd.Series(index=rets.columns, data=10000.)\n",
    "init_portfolio.USDOLLAR = 0\n",
    "result = market_sim.run_backtest(\n",
    "    init_portfolio, start_time=start, end_time=end, policy=spo_policy,loglevel=logging.INFO)"
   ]
  },
  {
   "cell_type": "code",
   "execution_count": 31,
   "metadata": {
    "ExecuteTime": {
     "end_time": "2018-05-28T14:11:06.253732Z",
     "start_time": "2018-05-28T14:11:06.226872Z"
    }
   },
   "outputs": [
    {
     "data": {
      "text/html": [
       "<div>\n",
       "<style scoped>\n",
       "    .dataframe tbody tr th:only-of-type {\n",
       "        vertical-align: middle;\n",
       "    }\n",
       "\n",
       "    .dataframe tbody tr th {\n",
       "        vertical-align: top;\n",
       "    }\n",
       "\n",
       "    .dataframe thead th {\n",
       "        text-align: right;\n",
       "    }\n",
       "</style>\n",
       "<table border=\"1\" class=\"dataframe\">\n",
       "  <thead>\n",
       "    <tr style=\"text-align: right;\">\n",
       "      <th></th>\n",
       "      <th>300001</th>\n",
       "      <th>000333</th>\n",
       "      <th>600771</th>\n",
       "      <th>600645</th>\n",
       "      <th>cash</th>\n",
       "    </tr>\n",
       "  </thead>\n",
       "  <tbody>\n",
       "    <tr>\n",
       "      <th>2018-05-21 00:00:00+00:00</th>\n",
       "      <td>3.188863e-09</td>\n",
       "      <td>0.549728</td>\n",
       "      <td>0.264408</td>\n",
       "      <td>6.862403e-08</td>\n",
       "      <td>0.185864</td>\n",
       "    </tr>\n",
       "    <tr>\n",
       "      <th>2018-05-22 00:00:00+00:00</th>\n",
       "      <td>2.581115e-09</td>\n",
       "      <td>0.549911</td>\n",
       "      <td>0.264346</td>\n",
       "      <td>7.358362e-08</td>\n",
       "      <td>0.185743</td>\n",
       "    </tr>\n",
       "    <tr>\n",
       "      <th>2018-05-23 00:00:00+00:00</th>\n",
       "      <td>2.048447e-09</td>\n",
       "      <td>0.538615</td>\n",
       "      <td>0.274871</td>\n",
       "      <td>8.641586e-08</td>\n",
       "      <td>0.186514</td>\n",
       "    </tr>\n",
       "    <tr>\n",
       "      <th>2018-05-24 00:00:00+00:00</th>\n",
       "      <td>1.002555e-09</td>\n",
       "      <td>0.536032</td>\n",
       "      <td>0.275350</td>\n",
       "      <td>9.275205e-08</td>\n",
       "      <td>0.188618</td>\n",
       "    </tr>\n",
       "    <tr>\n",
       "      <th>2018-05-25 00:00:00+00:00</th>\n",
       "      <td>3.426895e-09</td>\n",
       "      <td>0.531138</td>\n",
       "      <td>0.276032</td>\n",
       "      <td>9.373033e-08</td>\n",
       "      <td>0.192830</td>\n",
       "    </tr>\n",
       "  </tbody>\n",
       "</table>\n",
       "</div>"
      ],
      "text/plain": [
       "                                 300001    000333    600771        600645  \\\n",
       "2018-05-21 00:00:00+00:00  3.188863e-09  0.549728  0.264408  6.862403e-08   \n",
       "2018-05-22 00:00:00+00:00  2.581115e-09  0.549911  0.264346  7.358362e-08   \n",
       "2018-05-23 00:00:00+00:00  2.048447e-09  0.538615  0.274871  8.641586e-08   \n",
       "2018-05-24 00:00:00+00:00  1.002555e-09  0.536032  0.275350  9.275205e-08   \n",
       "2018-05-25 00:00:00+00:00  3.426895e-09  0.531138  0.276032  9.373033e-08   \n",
       "\n",
       "                               cash  \n",
       "2018-05-21 00:00:00+00:00  0.185864  \n",
       "2018-05-22 00:00:00+00:00  0.185743  \n",
       "2018-05-23 00:00:00+00:00  0.186514  \n",
       "2018-05-24 00:00:00+00:00  0.188618  \n",
       "2018-05-25 00:00:00+00:00  0.192830  "
      ]
     },
     "execution_count": 31,
     "metadata": {},
     "output_type": "execute_result"
    }
   ],
   "source": [
    "result.w.tail()"
   ]
  },
  {
   "cell_type": "code",
   "execution_count": 32,
   "metadata": {
    "ExecuteTime": {
     "end_time": "2018-05-28T14:11:36.106138Z",
     "start_time": "2018-05-28T14:11:36.075672Z"
    }
   },
   "outputs": [
    {
     "data": {
      "text/plain": [
       "2017-01-03 00:00:00+00:00    50000.000000\n",
       "2017-01-04 00:00:00+00:00    50281.634575\n",
       "2017-01-05 00:00:00+00:00    50668.507095\n",
       "2017-01-06 00:00:00+00:00    50744.821424\n",
       "2017-01-09 00:00:00+00:00    50608.821331\n",
       "2017-01-10 00:00:00+00:00    50646.241911\n",
       "2017-01-11 00:00:00+00:00    50606.981360\n",
       "2017-01-12 00:00:00+00:00    50404.378401\n",
       "2017-01-13 00:00:00+00:00    50125.136786\n",
       "2017-01-16 00:00:00+00:00    49878.365216\n",
       "2017-01-17 00:00:00+00:00    49410.970391\n",
       "2017-01-18 00:00:00+00:00    49749.901399\n",
       "2017-01-19 00:00:00+00:00    49864.346201\n",
       "2017-01-20 00:00:00+00:00    49755.760617\n",
       "2017-01-23 00:00:00+00:00    50062.780898\n",
       "2017-01-24 00:00:00+00:00    50098.705803\n",
       "2017-01-25 00:00:00+00:00    50248.653608\n",
       "2017-01-26 00:00:00+00:00    50420.087303\n",
       "2017-02-03 00:00:00+00:00    50656.969444\n",
       "2017-02-06 00:00:00+00:00    50875.005537\n",
       "2017-02-07 00:00:00+00:00    51034.886435\n",
       "2017-02-08 00:00:00+00:00    50820.153677\n",
       "2017-02-09 00:00:00+00:00    50950.270473\n",
       "2017-02-10 00:00:00+00:00    51018.416073\n",
       "2017-02-13 00:00:00+00:00    51034.580149\n",
       "2017-02-14 00:00:00+00:00    51524.104238\n",
       "2017-02-15 00:00:00+00:00    51387.513535\n",
       "2017-02-16 00:00:00+00:00    51749.805187\n",
       "2017-02-17 00:00:00+00:00    52419.993944\n",
       "2017-02-20 00:00:00+00:00    52334.908237\n",
       "                                 ...     \n",
       "2018-04-12 00:00:00+00:00    73374.355935\n",
       "2018-04-13 00:00:00+00:00    73010.708999\n",
       "2018-04-16 00:00:00+00:00    71651.148235\n",
       "2018-04-17 00:00:00+00:00    70550.384586\n",
       "2018-04-18 00:00:00+00:00    70057.676257\n",
       "2018-04-19 00:00:00+00:00    69539.593025\n",
       "2018-04-20 00:00:00+00:00    71684.868210\n",
       "2018-04-23 00:00:00+00:00    71862.692777\n",
       "2018-04-24 00:00:00+00:00    71524.230783\n",
       "2018-04-25 00:00:00+00:00    73720.258736\n",
       "2018-04-26 00:00:00+00:00    73310.606683\n",
       "2018-04-27 00:00:00+00:00    72392.723743\n",
       "2018-05-02 00:00:00+00:00    73532.056911\n",
       "2018-05-03 00:00:00+00:00    73028.278503\n",
       "2018-05-04 00:00:00+00:00    74368.008901\n",
       "2018-05-07 00:00:00+00:00    73622.818411\n",
       "2018-05-08 00:00:00+00:00    74797.911689\n",
       "2018-05-09 00:00:00+00:00    75919.227843\n",
       "2018-05-10 00:00:00+00:00    75676.385074\n",
       "2018-05-11 00:00:00+00:00    76069.069457\n",
       "2018-05-14 00:00:00+00:00    75129.561498\n",
       "2018-05-15 00:00:00+00:00    76445.646902\n",
       "2018-05-16 00:00:00+00:00    77709.749037\n",
       "2018-05-17 00:00:00+00:00    77295.926913\n",
       "2018-05-18 00:00:00+00:00    76257.801256\n",
       "2018-05-21 00:00:00+00:00    76540.376653\n",
       "2018-05-22 00:00:00+00:00    76600.101465\n",
       "2018-05-23 00:00:00+00:00    76293.150176\n",
       "2018-05-24 00:00:00+00:00    75451.724463\n",
       "2018-05-25 00:00:00+00:00    74558.017844\n",
       "Length: 339, dtype: float64"
      ]
     },
     "execution_count": 32,
     "metadata": {},
     "output_type": "execute_result"
    }
   ],
   "source": [
    "result.v"
   ]
  },
  {
   "cell_type": "code",
   "execution_count": null,
   "metadata": {},
   "outputs": [],
   "source": []
  }
 ],
 "metadata": {
  "anaconda-cloud": {},
  "kernelspec": {
   "display_name": "zipline",
   "language": "python",
   "name": "zipline"
  },
  "language_info": {
   "codemirror_mode": {
    "name": "ipython",
    "version": 3
   },
   "file_extension": ".py",
   "mimetype": "text/x-python",
   "name": "python",
   "nbconvert_exporter": "python",
   "pygments_lexer": "ipython3",
   "version": "3.6.5"
  },
  "toc": {
   "base_numbering": 1,
   "nav_menu": {},
   "number_sections": true,
   "sideBar": true,
   "skip_h1_title": false,
   "title_cell": "Table of Contents",
   "title_sidebar": "Contents",
   "toc_cell": false,
   "toc_position": {},
   "toc_section_display": true,
   "toc_window_display": false
  }
 },
 "nbformat": 4,
 "nbformat_minor": 1
}
